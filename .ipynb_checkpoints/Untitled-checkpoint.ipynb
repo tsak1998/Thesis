{
 "cells": [
  {
   "cell_type": "code",
   "execution_count": 2,
   "metadata": {},
   "outputs": [],
   "source": [
    "import plotly.plotly as py\n",
    "import plotly.graph_objs as go\n",
    "from plotly.tools import FigureFactory as FF\n",
    "from plotly import tools, offline\n",
    "import json\n",
    "import numpy as np\n",
    "import pandas as pd\n",
    "import math\n",
    "import matplotlib.pyplot as plt\n"
   ]
  },
  {
   "cell_type": "code",
   "execution_count": 3,
   "metadata": {},
   "outputs": [],
   "source": [
    "mqn = pd.read_csv('model_test/test_1/mqn.csv')\n",
    "displacements = pd.read_csv('model_test/test_1/d_local.csv')\n",
    "elements = pd.read_csv('model_test/test_1/elements.csv')\n",
    "nodes = pd.read_csv('model_test/test_1/nodes.csv')\n",
    "point_loads = pd.read_csv('model_test/test_1/point_loads_rotated.csv')"
   ]
  },
  {
   "cell_type": "code",
   "execution_count": 15,
   "metadata": {},
   "outputs": [
    {
     "data": {
      "text/html": [
       "<div>\n",
       "<style scoped>\n",
       "    .dataframe tbody tr th:only-of-type {\n",
       "        vertical-align: middle;\n",
       "    }\n",
       "\n",
       "    .dataframe tbody tr th {\n",
       "        vertical-align: top;\n",
       "    }\n",
       "\n",
       "    .dataframe thead th {\n",
       "        text-align: right;\n",
       "    }\n",
       "</style>\n",
       "<table border=\"1\" class=\"dataframe\">\n",
       "  <thead>\n",
       "    <tr style=\"text-align: right;\">\n",
       "      <th></th>\n",
       "      <th>Unnamed: 0</th>\n",
       "      <th>user_id</th>\n",
       "      <th>nn</th>\n",
       "      <th>c</th>\n",
       "      <th>p_x</th>\n",
       "      <th>p_y</th>\n",
       "      <th>p_z</th>\n",
       "      <th>m_x</th>\n",
       "      <th>m_y</th>\n",
       "      <th>m_z</th>\n",
       "    </tr>\n",
       "  </thead>\n",
       "  <tbody>\n",
       "    <tr>\n",
       "      <th>0</th>\n",
       "      <td>0</td>\n",
       "      <td>cv13116</td>\n",
       "      <td>1</td>\n",
       "      <td>0.20</td>\n",
       "      <td>-125.788423</td>\n",
       "      <td>-51.256929</td>\n",
       "      <td>-21.213203</td>\n",
       "      <td>0.000000</td>\n",
       "      <td>0.000000</td>\n",
       "      <td>0.000000</td>\n",
       "    </tr>\n",
       "    <tr>\n",
       "      <th>1</th>\n",
       "      <td>1</td>\n",
       "      <td>cv13116</td>\n",
       "      <td>1</td>\n",
       "      <td>0.35</td>\n",
       "      <td>-61.828208</td>\n",
       "      <td>-48.241815</td>\n",
       "      <td>-35.355339</td>\n",
       "      <td>0.000000</td>\n",
       "      <td>0.000000</td>\n",
       "      <td>0.000000</td>\n",
       "    </tr>\n",
       "    <tr>\n",
       "      <th>2</th>\n",
       "      <td>2</td>\n",
       "      <td>cv13116</td>\n",
       "      <td>1</td>\n",
       "      <td>0.46</td>\n",
       "      <td>0.000000</td>\n",
       "      <td>0.000000</td>\n",
       "      <td>0.000000</td>\n",
       "      <td>63.960215</td>\n",
       "      <td>-30.151134</td>\n",
       "      <td>70.710678</td>\n",
       "    </tr>\n",
       "    <tr>\n",
       "      <th>3</th>\n",
       "      <td>3</td>\n",
       "      <td>cv13116</td>\n",
       "      <td>1</td>\n",
       "      <td>0.80</td>\n",
       "      <td>-83.148279</td>\n",
       "      <td>39.196475</td>\n",
       "      <td>-21.213203</td>\n",
       "      <td>0.000000</td>\n",
       "      <td>0.000000</td>\n",
       "      <td>0.000000</td>\n",
       "    </tr>\n",
       "  </tbody>\n",
       "</table>\n",
       "</div>"
      ],
      "text/plain": [
       "   Unnamed: 0  user_id  nn     c         p_x        p_y        p_z        m_x  \\\n",
       "0           0  cv13116   1  0.20 -125.788423 -51.256929 -21.213203   0.000000   \n",
       "1           1  cv13116   1  0.35  -61.828208 -48.241815 -35.355339   0.000000   \n",
       "2           2  cv13116   1  0.46    0.000000   0.000000   0.000000  63.960215   \n",
       "3           3  cv13116   1  0.80  -83.148279  39.196475 -21.213203   0.000000   \n",
       "\n",
       "         m_y        m_z  \n",
       "0   0.000000   0.000000  \n",
       "1   0.000000   0.000000  \n",
       "2 -30.151134  70.710678  \n",
       "3   0.000000   0.000000  "
      ]
     },
     "execution_count": 15,
     "metadata": {},
     "output_type": "execute_result"
    }
   ],
   "source": [
    "point_loads"
   ]
  },
  {
   "cell_type": "code",
   "execution_count": 4,
   "metadata": {},
   "outputs": [],
   "source": [
    "element = elements.loc[elements['en']==1].squeeze()"
   ]
  },
  {
   "cell_type": "code",
   "execution_count": 27,
   "metadata": {},
   "outputs": [],
   "source": [
    "q_i = [294.336, 90.0511, 56.603, -37.17, -50.887, -54.7768]\n",
    "q_j = [26.885, 29.7488, -25.179, 26.79, -11.448, 5.7522]"
   ]
  },
  {
   "cell_type": "code",
   "execution_count": 59,
   "metadata": {},
   "outputs": [],
   "source": [
    "start = 0\n",
    "df = pd.DataFrame([],columns=['x','Fx', 'Fy', 'Fz', 'Mx', 'My', 'Mz'])\n",
    "Fxi = q_i[0]\n",
    "Fyi = q_i[1]\n",
    "Fzi = q_i[2]\n",
    "Mxi = q_i[3]\n",
    "Myi = q_i[4]\n",
    "Mzi = q_i[5]\n",
    "\n",
    "Fxj = q_j[0]\n",
    "Fyj = q_j[1]\n",
    "Fzj = q_j[2]\n",
    "Mxj = q_j[3]\n",
    "Myj = q_j[4]\n",
    "Mzj = q_j[5]\n",
    "Nx = []\n",
    "Qy = []\n",
    "Qz = []\n",
    "M_x = []\n",
    "M_y = []\n",
    "M_z = []\n",
    "for index,load in point_loads.iterrows():\n",
    "    c = load.c\n",
    "    L = element.length#.get_values()\n",
    "    end = c*L\n",
    "     \n",
    "    Fx = Fxi\n",
    "    Nx.append([(start,end),(Fxi,Fx)])\n",
    "    Fxi = Fx+load.p_x\n",
    "    \n",
    "    Fy = Fyi\n",
    "    Qy.append([(start,end),(Fyi,Fy)])\n",
    "    Fyi = Fy+load.p_y\n",
    "    Mz = Mzi+(end-start)*Fy\n",
    "    if load.m_z!=0:\n",
    "        Mz = Mzi+Fyi*(end-start)\n",
    "        M_z.append([(start,end),(Mzi,Mz)])\n",
    "        Mzi = Mz\n",
    "        Mz -=load.m_z\n",
    "        start = end\n",
    "    M_z.append([(start,end),(Mzi,Mz)])    \n",
    "    Mzi = Mz\n",
    "    #else:\n",
    "        \n",
    "    Fz = Fzi\n",
    "    Qz.append([(start,end),(Fzi,Fz)])\n",
    "    Fzi = Fz+load.p_z\n",
    "    My = Myi+(end-start)*Fz\n",
    "    if load.m_y!=0:\n",
    "        My = Myi+Fyi*(end-start)\n",
    "        M_y.append([(start,end),(Myi,My)])\n",
    "        Myi = My\n",
    "        My -= load.m_y\n",
    "        start = end\n",
    "    M_y.append([(start,end),(Myi,My)])    \n",
    "    Myi = My\n",
    "    \n",
    "    if load.m_x!=0:\n",
    "        Mx = Mxi\n",
    "        M_x.append([(start,end),(Mxi,Mx)])\n",
    "        Mxi = Mx\n",
    "        Mx -= load.m_x\n",
    "        start = end\n",
    "    M_x.append([(start,end),(Mxi,Mx)])\n",
    "    start = end\n",
    "    #if (index == len(point_loads)-1):\n",
    "Nx.append([(start, L),(Fxi,Fxj)])\n",
    "Qy.append([(start, L),(Fyi,Fyj)])\n",
    "Qz.append([(start,L),(Fzi,Fzj)])\n",
    "M_z.append([(start,L),(Mzi,Mzj)])\n",
    "M_x.append([(start,L),(Mxi,Mxj)])\n",
    "M_y.append([(start,L),(Myi,Myj)])"
   ]
  },
  {
   "cell_type": "code",
   "execution_count": 60,
   "metadata": {},
   "outputs": [
    {
     "data": {
      "text/plain": [
       "[[(0, 0.9380839999999999), (-37.17, -37.17)],\n",
       " [(0, 0.9380839999999999), (-37.17, -37.17)],\n",
       " [(0.9380839999999999, 1.6416469999999999), (-37.17, -37.17)],\n",
       " [(0.9380839999999999, 1.6416469999999999), (-37.17, -37.17)],\n",
       " [(2.1575932, 2.1575932), (-37.17, -37.17)],\n",
       " [(2.1575932, 2.1575932), (-37.17, -101.13021490668314)],\n",
       " [(2.1575932, 3.7523359999999997), (-37.17, -37.17)],\n",
       " [(2.1575932, 3.7523359999999997), (-37.17, -37.17)],\n",
       " [(3.7523359999999997, 4.69042), (-37.17, 26.79)]]"
      ]
     },
     "execution_count": 60,
     "metadata": {},
     "output_type": "execute_result"
    }
   ],
   "source": [
    "M_x"
   ]
  },
  {
   "cell_type": "code",
   "execution_count": 61,
   "metadata": {},
   "outputs": [],
   "source": [
    "def fit_points(num_points, **kwargs):\n",
    "    columns = ['x']+list(kwargs)\n",
    "    df = pd.DataFrame([], columns=columns)\n",
    "    for key in kwargs.keys():\n",
    "        for segment in kwargs[key]:\n",
    "            x_ = segment[0]\n",
    "            y_ = segment[1]\n",
    "            a, b = x_[0], x_[-1]\n",
    "            if len(x_)<4:\n",
    "                degree = 1\n",
    "            else:\n",
    "                degree = 3\n",
    "            x = np.linspace(a, b, num_points)\n",
    "            coef = np.polyfit(x_, y_, degree)\n",
    "            if degree==1:\n",
    "                values = x*coef[0]+coef[1]\n",
    "            else:\n",
    "                values = x**3*coef[0]+x**2*coef[1]+x*coef[2]+coef[3] \n",
    "            d_t = pd.DataFrame([], columns=columns)\n",
    "            d_t[key] = values\n",
    "            d_t['x'] = x\n",
    "            df = pd.concat([df,d_t],axis=0, sort=False)\n",
    "    return df"
   ]
  },
  {
   "cell_type": "code",
   "execution_count": 62,
   "metadata": {},
   "outputs": [
    {
     "name": "stderr",
     "output_type": "stream",
     "text": [
      "/home/tsakalis/anaconda3/lib/python2.7/site-packages/ipykernel_launcher.py:14: RankWarning:\n",
      "\n",
      "Polyfit may be poorly conditioned\n",
      "\n",
      "/home/tsakalis/anaconda3/lib/python2.7/site-packages/ipykernel_launcher.py:14: RankWarning:\n",
      "\n",
      "Polyfit may be poorly conditioned\n",
      "\n",
      "/home/tsakalis/anaconda3/lib/python2.7/site-packages/ipykernel_launcher.py:14: RankWarning:\n",
      "\n",
      "Polyfit may be poorly conditioned\n",
      "\n",
      "/home/tsakalis/anaconda3/lib/python2.7/site-packages/ipykernel_launcher.py:14: RankWarning:\n",
      "\n",
      "Polyfit may be poorly conditioned\n",
      "\n",
      "/home/tsakalis/anaconda3/lib/python2.7/site-packages/ipykernel_launcher.py:14: RankWarning:\n",
      "\n",
      "Polyfit may be poorly conditioned\n",
      "\n",
      "/home/tsakalis/anaconda3/lib/python2.7/site-packages/ipykernel_launcher.py:14: RankWarning:\n",
      "\n",
      "Polyfit may be poorly conditioned\n",
      "\n"
     ]
    },
    {
     "data": {
      "text/plain": [
       "[<matplotlib.lines.Line2D at 0x7fe96366f750>]"
      ]
     },
     "execution_count": 62,
     "metadata": {},
     "output_type": "execute_result"
    },
    {
     "data": {
      "image/png": "[encoded data removed]",
      "text/plain": [
       "<Figure size 432x288 with 1 Axes>"
      ]
     },
     "metadata": {
      "needs_background": "light"
     },
     "output_type": "display_data"
    }
   ],
   "source": [
    "temp = fit_points(10, Fx=Nx, Fy=Qy, Fz=Qz, Mx=M_x, My=M_y, Mz=M_z)\n",
    "#plt.plot(temp['x'], temp['Fx'])\n",
    "#plt.plot(temp['x'], temp['Fy'])\n",
    "#plt.plot(temp['x'], temp['Fz'])\n",
    "plt.plot(temp['x'], temp['Mx'])\n",
    "#plt.plot(temp['x'], temp['My'])\n",
    "#plt.plot(temp['x'], temp['Mz'])"
   ]
  },
  {
   "cell_type": "code",
   "execution_count": 182,
   "metadata": {},
   "outputs": [
    {
     "name": "stdout",
     "output_type": "stream",
     "text": [
      "1.5\n",
      "0 -23004.375\n"
     ]
    },
    {
     "ename": "NameError",
     "evalue": "name 'd_my' is not defined",
     "output_type": "error",
     "traceback": [
      "\u001b[1;31m---------------------------------------------------------------------------\u001b[0m",
      "\u001b[1;31mNameError\u001b[0m                                 Traceback (most recent call last)",
      "\u001b[1;32m<ipython-input-182-36320c3ddf79>\u001b[0m in \u001b[0;36m<module>\u001b[1;34m\u001b[0m\n\u001b[0;32m     48\u001b[0m     \u001b[0mMyj\u001b[0m\u001b[1;33m=\u001b[0m \u001b[0mMyi\u001b[0m\u001b[1;33m\u001b[0m\u001b[1;33m\u001b[0m\u001b[0m\n\u001b[0;32m     49\u001b[0m \u001b[1;33m\u001b[0m\u001b[0m\n\u001b[1;32m---> 50\u001b[1;33m     \u001b[0mt\u001b[0m \u001b[1;33m=\u001b[0m \u001b[1;33m{\u001b[0m\u001b[1;34m'x'\u001b[0m\u001b[1;33m:\u001b[0m\u001b[0mx\u001b[0m\u001b[1;33m,\u001b[0m \u001b[1;34m'My'\u001b[0m\u001b[1;33m:\u001b[0m\u001b[0md_my\u001b[0m\u001b[1;33m}\u001b[0m\u001b[1;33m\u001b[0m\u001b[1;33m\u001b[0m\u001b[0m\n\u001b[0m\u001b[0;32m     51\u001b[0m     \u001b[0md_t\u001b[0m \u001b[1;33m=\u001b[0m \u001b[0mpd\u001b[0m\u001b[1;33m.\u001b[0m\u001b[0mDataFrame\u001b[0m\u001b[1;33m(\u001b[0m\u001b[1;33m[\u001b[0m\u001b[1;33m]\u001b[0m\u001b[1;33m,\u001b[0m \u001b[0mcolumns\u001b[0m\u001b[1;33m=\u001b[0m\u001b[1;33m[\u001b[0m\u001b[1;34m'x'\u001b[0m\u001b[1;33m,\u001b[0m\u001b[1;34m'Fy'\u001b[0m\u001b[1;33m]\u001b[0m\u001b[1;33m)\u001b[0m\u001b[1;33m\u001b[0m\u001b[1;33m\u001b[0m\u001b[0m\n\u001b[0;32m     52\u001b[0m     \u001b[0md_t\u001b[0m\u001b[1;33m[\u001b[0m\u001b[1;34m'x'\u001b[0m\u001b[1;33m]\u001b[0m \u001b[1;33m=\u001b[0m \u001b[0mx\u001b[0m\u001b[1;33m\u001b[0m\u001b[1;33m\u001b[0m\u001b[0m\n",
      "\u001b[1;31mNameError\u001b[0m: name 'd_my' is not defined"
     ]
    }
   ],
   "source": [
    "# entaseis akrwn\n",
    "q_i = [0, 0, 152.125, 0, 0, -185.625]\n",
    "q_j = [0, 0, -77.875, 0, 0, 0]\n",
    "L = 5 \n",
    "c1 = 0.3\n",
    "c2 = 0.5\n",
    "c3 = 0.7\n",
    "c4 = 0.4\n",
    "Mi = -185.625\n",
    "M_c1 = 0\n",
    "Qi = 152.125\n",
    "Q_c2 = 50\n",
    "M_c2 = 0\n",
    "P1 = -100\n",
    "P2 = -30\n",
    "P3 = -100\n",
    "P4 = 100\n",
    "\n",
    "Fxi, Fxj = q_i[0], q_j[0]\n",
    "Fyi, Fyj = q_i[2], q_j[1]\n",
    "Fzi, Fzj = q_i[2], q_j[2]\n",
    "Mxi, Mxj = q_i[3], q_j[3]\n",
    "Myi, Myj = q_i[4], q_j[4]\n",
    "Mzi, Mzj = q_i[5], q_j[5]\n",
    "\n",
    "p = [P1, P2, P3]\n",
    "c = [c1, c2, c3]\n",
    "\n",
    "p__ = [x for y, x in sorted(zip(c, p))]\n",
    "c.sort()\n",
    "m_points = [(0, Mi)]\n",
    "q_points = [(0,Qi)]\n",
    "i = 0\n",
    "start = 0\n",
    "df = pd.DataFrame([],columns=['x','Fx', 'Fy', 'Fz', 'Mx', 'My', 'Mz'])\n",
    "for p_, c_ in zip(p__,c):\n",
    "    end = c_*L\n",
    "    Q = Qi\n",
    "    # My \n",
    "    \n",
    "    Myj = Mi+p_*(end-start)*Fyi\n",
    "    print(end-start)\n",
    "    print(Myi, Myj)\n",
    "    \n",
    "    x = np.linspace(start, end, 10)\n",
    "    coef = np.polyfit([start,end ], [Myi,Myj], 1)\n",
    "    d_fy = x*coef[0]+coef[1]\n",
    "    Myj= Myi\n",
    "    \n",
    "    t = {'x':x, 'My':d_my}\n",
    "    d_t = pd.DataFrame([], columns=['x','Fy'])\n",
    "    d_t['x'] = x\n",
    "    d_t['My'] = d_fy\n",
    "    df = pd.concat([df,d_t],axis=0)\n",
    "    start = c*L\n",
    "    Fyi += p_ \n",
    "    print(Fyi)\n",
    "    i += 1\n",
    "    \n",
    "\n",
    "x_last =np.linspace(end,L,10)\n",
    "coef = np.polyfit([end,L ], [Myi,Myj], 1)\n",
    "d_z = x*coef[0]+coef[1]\n",
    "d_t = pd.DataFrame([], columns=['x','My'])\n",
    "d_t['x'] = x_last\n",
    "d_t['My'] = d_z\n",
    "df = pd.concat([df,d_t],axis=0)\n",
    "plt.plot(df['x'],df['My'])\n",
    "plt.show()\n",
    "m_points.append((L, Mj))\n",
    "q_points.append((L, Qj))"
   ]
  },
  {
   "cell_type": "code",
   "execution_count": null,
   "metadata": {},
   "outputs": [],
   "source": [
    "L = 5 \n",
    "c1 =0.4\n",
    "c2=0.6\n",
    "Qi = 152.125\n",
    "Mi = -185.625\n",
    "Q_c2 = 50\n",
    "M_c2 = 0\n",
    "P1 = -100\n",
    "P2 = -30\n",
    "P3 = -100\n",
    "c1 = 0.3\n",
    "c2 = 0.5\n",
    "c3 = 0.7\n",
    "\n",
    "\n",
    "Qj = -77.85\n",
    "p = [P1, P2, P3]\n",
    "c = [c1,c2, c3]\n",
    "#c.sort()\n",
    "p__ = [x for y, x in sorted(zip(c, p))]\n",
    "c.sort()\n",
    "m_points = [(0, Mi)]\n",
    "q_points = [(0,Qi)]\n",
    "i = 0\n",
    "start = 0\n",
    "df = pd.DataFrame([],columns=['x','Fx', 'Fy', 'Fz', 'Mx', 'My', 'Mz'])\n",
    "for p_, c_ in zip(p__,c):\n",
    "    end = c_*L\n",
    "    Q = Qi\n",
    "    x = np.linspace(start, end, 10)\n",
    "    coef = np.polyfit([start,end ], [Qi,Q], 1)\n",
    "    f_y = x*coef[0]+coef[1]\n",
    "    Qi = Q+p_\n",
    "    \n",
    "    Mj = Mi+Q*(end-start)\n",
    "    coef = np.polyfit([start,end ], [Mi,Mj], 1)\n",
    "    m_y = x*coef[0]+coef[1]\n",
    "    \n",
    "    Mi = Mj\n",
    "    \n",
    "    start = c_*L\n",
    "    d_t = pd.DataFrame([], columns=['x','Fy','My'])\n",
    "    d_t['x'] = x\n",
    "    d_t['Fy'] = f_y\n",
    "    d_t['My'] = m_y\n",
    "    df = pd.concat([df,d_t],axis=0, sort=False)\n",
    "    i += 1\n",
    "M = 0\n",
    "print(end, Mj)\n",
    "print(L, M)\n",
    "x_last =np.linspace(end,L,10)\n",
    "coef = np.polyfit([end,L ], [Qi,Qj], 1)\n",
    "f_y = x*coef[0]+coef[1]\n",
    "d_t = pd.DataFrame([], columns=['x','Fy', 'My'])\n",
    "d_t['x'] = x_last\n",
    "d_t['Fy'] = f_y\n",
    "coef = np.polyfit([end, L ], [Mj,M], 1)\n",
    "m_y = x_last*coef[0]+coef[1]\n",
    "\n",
    "d_t['My'] = m_y\n",
    "df = pd.concat([df,d_t],axis=0,sort=False)\n",
    "plt.plot(df['x'],df['Fy'])\n",
    "plt.plot(df['x'],df['My'])\n",
    "plt.show()\n",
    "m_points.append((L, Mj))\n",
    "q_points.append((L, Qj))"
   ]
  },
  {
   "cell_type": "code",
   "execution_count": 9,
   "metadata": {},
   "outputs": [
    {
     "ename": "IndexError",
     "evalue": "list index out of range",
     "output_type": "error",
     "traceback": [
      "\u001b[1;31m---------------------------------------------------------------------------\u001b[0m",
      "\u001b[1;31mIndexError\u001b[0m                                Traceback (most recent call last)",
      "\u001b[1;32m<ipython-input-9-32c169f5b0da>\u001b[0m in \u001b[0;36m<module>\u001b[1;34m()\u001b[0m\n\u001b[1;32m----> 1\u001b[1;33m \u001b[1;33m[\u001b[0m\u001b[0mm_points\u001b[0m\u001b[1;33m[\u001b[0m\u001b[1;36m0\u001b[0m\u001b[1;33m]\u001b[0m\u001b[1;33m[\u001b[0m\u001b[1;36m1\u001b[0m\u001b[1;33m]\u001b[0m\u001b[1;33m,\u001b[0m \u001b[0mm_points\u001b[0m\u001b[1;33m[\u001b[0m\u001b[1;36m1\u001b[0m\u001b[1;33m]\u001b[0m\u001b[1;33m[\u001b[0m\u001b[1;36m1\u001b[0m\u001b[1;33m]\u001b[0m\u001b[1;33m,\u001b[0m \u001b[0mm_points\u001b[0m\u001b[1;33m[\u001b[0m\u001b[1;36m2\u001b[0m\u001b[1;33m]\u001b[0m\u001b[1;33m[\u001b[0m\u001b[1;36m1\u001b[0m\u001b[1;33m]\u001b[0m\u001b[1;33m,\u001b[0m \u001b[0mm_points\u001b[0m\u001b[1;33m[\u001b[0m\u001b[1;36m3\u001b[0m\u001b[1;33m]\u001b[0m\u001b[1;33m[\u001b[0m\u001b[1;36m1\u001b[0m\u001b[1;33m]\u001b[0m\u001b[1;33m]\u001b[0m\u001b[1;33m\u001b[0m\u001b[0m\n\u001b[0m",
      "\u001b[1;31mIndexError\u001b[0m: list index out of range"
     ]
    }
   ],
   "source": [
    "[m_points[0][1], m_points[1][1], m_points[2][1], m_points[3][1]]"
   ]
  },
  {
   "cell_type": "code",
   "execution_count": 5,
   "metadata": {},
   "outputs": [
    {
     "data": {
      "text/plain": [
       "array([0., 0., 0., 0., 0., 0., 0., 0., 0., 0.])"
      ]
     },
     "execution_count": 5,
     "metadata": {},
     "output_type": "execute_result"
    }
   ],
   "source": [
    "np.zeros((10))\n"
   ]
  },
  {
   "cell_type": "code",
   "execution_count": 28,
   "metadata": {},
   "outputs": [],
   "source": [
    "def mqn_member(elements, MQN_nodes, point_loads):\n",
    "    for index, element in elements.iterrows():\n",
    "        mqn_nodes = MQN_nodes[index]\n",
    "        points = 10\n",
    "        mqn_values = np.zeros((points, 8))\n",
    "        disp_member_local = np.zeros((8, points))\n",
    "        L = element.length\n",
    "\n",
    "        member_p_loads = point_loads.loc[(point_loads.nn == element.en) & (point_loads.c != 99999)]\n",
    "        # d_load = dist_loads.loc[(dist_loads.en == element.en)]\n",
    "        for index, p_load in member_p_loads.iterrows():\n",
    "            print(p_load)"
   ]
  },
  {
   "cell_type": "code",
   "execution_count": 29,
   "metadata": {},
   "outputs": [
    {
     "name": "stdout",
     "output_type": "stream",
     "text": [
      "   id  user_id  nn    c  p_x  p_y    p_z  m_x  m_y  m_z\n",
      "0  42  cv13116   1  0.5  0.0  0.0 -100.0  0.0  0.0  0.0\n",
      "id              42\n",
      "user_id    cv13116\n",
      "nn               1\n",
      "c              0.5\n",
      "p_x              0\n",
      "p_y              0\n",
      "p_z           -100\n",
      "m_x              0\n",
      "m_y              0\n",
      "m_z              0\n",
      "Name: 0, dtype: object\n",
      "   id  user_id  nn    c  p_x  p_y    p_z  m_x  m_y  m_z\n",
      "2  44  cv13116   2  0.5  0.0  0.0 -100.0  0.0  0.0  0.0\n",
      "id              44\n",
      "user_id    cv13116\n",
      "nn               2\n",
      "c              0.5\n",
      "p_x              0\n",
      "p_y              0\n",
      "p_z           -100\n",
      "m_x              0\n",
      "m_y              0\n",
      "m_z              0\n",
      "Name: 2, dtype: object\n",
      "Empty DataFrame\n",
      "Columns: [id, user_id, nn, c, p_x, p_y, p_z, m_x, m_y, m_z]\n",
      "Index: []\n",
      "   id  user_id  nn    c  p_x  p_y    p_z  m_x  m_y  m_z\n",
      "4  46  cv13116   4  0.5  0.0  0.0 -100.0  0.0  0.0  0.0\n",
      "id              46\n",
      "user_id    cv13116\n",
      "nn               4\n",
      "c              0.5\n",
      "p_x              0\n",
      "p_y              0\n",
      "p_z           -100\n",
      "m_x              0\n",
      "m_y              0\n",
      "m_z              0\n",
      "Name: 4, dtype: object\n",
      "   id  user_id  nn    c  p_x  p_y    p_z  m_x  m_y  m_z\n",
      "6  48  cv13116   5  0.5  0.0  0.0 -100.0  0.0  0.0  0.0\n",
      "id              48\n",
      "user_id    cv13116\n",
      "nn               5\n",
      "c              0.5\n",
      "p_x              0\n",
      "p_y              0\n",
      "p_z           -100\n",
      "m_x              0\n",
      "m_y              0\n",
      "m_z              0\n",
      "Name: 6, dtype: object\n",
      "Empty DataFrame\n",
      "Columns: [id, user_id, nn, c, p_x, p_y, p_z, m_x, m_y, m_z]\n",
      "Index: []\n",
      "Empty DataFrame\n",
      "Columns: [id, user_id, nn, c, p_x, p_y, p_z, m_x, m_y, m_z]\n",
      "Index: []\n",
      "Empty DataFrame\n",
      "Columns: [id, user_id, nn, c, p_x, p_y, p_z, m_x, m_y, m_z]\n",
      "Index: []\n",
      "   id  user_id  nn    c  p_x  p_y    p_z  m_x  m_y  m_z\n",
      "0  42  cv13116   1  0.5  0.0  0.0 -100.0  0.0  0.0  0.0\n",
      "id              42\n",
      "user_id    cv13116\n",
      "nn               1\n",
      "c              0.5\n",
      "p_x              0\n",
      "p_y              0\n",
      "p_z           -100\n",
      "m_x              0\n",
      "m_y              0\n",
      "m_z              0\n",
      "Name: 0, dtype: object\n"
     ]
    }
   ],
   "source": [
    "mqn_member(elements, MQN_nodes, point_loads)"
   ]
  },
  {
   "cell_type": "code",
   "execution_count": 68,
   "metadata": {},
   "outputs": [],
   "source": [
    "def fit_points(num_points, **kwargs):\n",
    "    columns = ['x']+kwargs.keys()\n",
    "    df = pd.DataFrame([], columns=columns)\n",
    "    for key in kwargs.keys():\n",
    "        for segment in kwargs[key]:\n",
    "            x_ = segment[0]\n",
    "            y_ = segment[1]\n",
    "            a, b = x_[0], x_[-1]\n",
    "            if len(x_)<4:\n",
    "                degree = 1\n",
    "            else:\n",
    "                degree = 3\n",
    "            x = np.linspace(a, b, num_points)\n",
    "            coef = np.polyfit(x_, y_, degree)\n",
    "            if degree==1:\n",
    "                values = x*coef[0]+coef[1]\n",
    "            else:\n",
    "                values = x**3*coef[0]+x**2*coef[1]+x*coef[2]+coef[3] \n",
    "            d_t = pd.DataFrame([], columns=columns)\n",
    "            d_t[key] = values\n",
    "            d_t['x'] = x\n",
    "            df = pd.concat([df,d_t],axis=0, sort=False)\n",
    "    return df"
   ]
  },
  {
   "cell_type": "code",
   "execution_count": 74,
   "metadata": {},
   "outputs": [],
   "source": [
    "a = [[(0,1.5),(-182.62,42.5625)],[(1.5, 2.5), (42.5625, 94.6874)],\n",
    "[(2.5,3.5),(94.6875,116.8125)], [(3.5,5),(115.8125,0)]]"
   ]
  },
  {
   "cell_type": "code",
   "execution_count": 78,
   "metadata": {},
   "outputs": [
    {
     "ename": "TypeError",
     "evalue": "can only concatenate list (not \"dict_keys\") to list",
     "output_type": "error",
     "traceback": [
      "\u001b[1;31m---------------------------------------------------------------------------\u001b[0m",
      "\u001b[1;31mTypeError\u001b[0m                                 Traceback (most recent call last)",
      "\u001b[1;32m<ipython-input-78-17f550d91b6a>\u001b[0m in \u001b[0;36m<module>\u001b[1;34m\u001b[0m\n\u001b[1;32m----> 1\u001b[1;33m \u001b[0mfit_points\u001b[0m\u001b[1;33m(\u001b[0m\u001b[1;36m10\u001b[0m\u001b[1;33m,\u001b[0m \u001b[0mFy\u001b[0m\u001b[1;33m=\u001b[0m\u001b[0mQy\u001b[0m\u001b[1;33m)\u001b[0m\u001b[1;33m.\u001b[0m\u001b[0mdrop_duplicates\u001b[0m\u001b[1;33m(\u001b[0m\u001b[0msubset\u001b[0m\u001b[1;33m=\u001b[0m\u001b[1;33m[\u001b[0m\u001b[1;34m'x'\u001b[0m\u001b[1;33m]\u001b[0m\u001b[1;33m,\u001b[0m \u001b[0mkeep\u001b[0m\u001b[1;33m=\u001b[0m\u001b[1;34m'first'\u001b[0m\u001b[1;33m)\u001b[0m\u001b[1;33m\u001b[0m\u001b[1;33m\u001b[0m\u001b[0m\n\u001b[0m",
      "\u001b[1;32m<ipython-input-71-f80f79187455>\u001b[0m in \u001b[0;36mfit_points\u001b[1;34m(num_points, **kwargs)\u001b[0m\n\u001b[0;32m      1\u001b[0m \u001b[1;32mdef\u001b[0m \u001b[0mfit_points\u001b[0m\u001b[1;33m(\u001b[0m\u001b[0mnum_points\u001b[0m\u001b[1;33m,\u001b[0m \u001b[1;33m**\u001b[0m\u001b[0mkwargs\u001b[0m\u001b[1;33m)\u001b[0m\u001b[1;33m:\u001b[0m\u001b[1;33m\u001b[0m\u001b[1;33m\u001b[0m\u001b[0m\n\u001b[1;32m----> 2\u001b[1;33m     \u001b[0mcolumns\u001b[0m \u001b[1;33m=\u001b[0m \u001b[1;33m[\u001b[0m\u001b[1;34m'x'\u001b[0m\u001b[1;33m]\u001b[0m\u001b[1;33m+\u001b[0m\u001b[0mkwargs\u001b[0m\u001b[1;33m.\u001b[0m\u001b[0mkeys\u001b[0m\u001b[1;33m(\u001b[0m\u001b[1;33m)\u001b[0m\u001b[1;33m\u001b[0m\u001b[1;33m\u001b[0m\u001b[0m\n\u001b[0m\u001b[0;32m      3\u001b[0m     \u001b[0mdf\u001b[0m \u001b[1;33m=\u001b[0m \u001b[0mpd\u001b[0m\u001b[1;33m.\u001b[0m\u001b[0mDataFrame\u001b[0m\u001b[1;33m(\u001b[0m\u001b[1;33m[\u001b[0m\u001b[1;33m]\u001b[0m\u001b[1;33m,\u001b[0m \u001b[0mcolumns\u001b[0m\u001b[1;33m=\u001b[0m\u001b[0mcolumns\u001b[0m\u001b[1;33m)\u001b[0m\u001b[1;33m\u001b[0m\u001b[1;33m\u001b[0m\u001b[0m\n\u001b[0;32m      4\u001b[0m     \u001b[1;32mfor\u001b[0m \u001b[0mkey\u001b[0m \u001b[1;32min\u001b[0m \u001b[0mkwargs\u001b[0m\u001b[1;33m.\u001b[0m\u001b[0mkeys\u001b[0m\u001b[1;33m(\u001b[0m\u001b[1;33m)\u001b[0m\u001b[1;33m:\u001b[0m\u001b[1;33m\u001b[0m\u001b[1;33m\u001b[0m\u001b[0m\n\u001b[0;32m      5\u001b[0m         \u001b[1;32mfor\u001b[0m \u001b[0msegment\u001b[0m \u001b[1;32min\u001b[0m \u001b[0mkwargs\u001b[0m\u001b[1;33m[\u001b[0m\u001b[0mkey\u001b[0m\u001b[1;33m]\u001b[0m\u001b[1;33m:\u001b[0m\u001b[1;33m\u001b[0m\u001b[1;33m\u001b[0m\u001b[0m\n",
      "\u001b[1;31mTypeError\u001b[0m: can only concatenate list (not \"dict_keys\") to list"
     ]
    }
   ],
   "source": [
    "fit_points(10, Fy=Qy).drop_duplicates(subset=['x'], keep='first')"
   ]
  },
  {
   "cell_type": "code",
   "execution_count": 44,
   "metadata": {},
   "outputs": [],
   "source": [
    "q = (1, ((0,0.5),(1,2)), ((0.5,1),(1,2)))"
   ]
  },
  {
   "cell_type": "code",
   "execution_count": 45,
   "metadata": {},
   "outputs": [
    {
     "data": {
      "text/plain": [
       "(1, ((0, 0.5), (1, 2)), ((0.5, 1), (1, 2)))"
      ]
     },
     "execution_count": 45,
     "metadata": {},
     "output_type": "execute_result"
    }
   ],
   "source": [
    "(0, -185.625)\n",
    "(1.5, 42.5625)\n",
    "(1.5, 42.5625)\n",
    "(2.5, 94.6875)\n",
    "(2.5, 94.6875)\n",
    "(3.5, 116.8125)\n",
    "(3.5, 116.8125)\n",
    "(5, 0)\n",
    "[[(0,1.5),(-182.62,42.5625)],[(1.5, 2.5), (42.5625, 94.6874)],\n",
    "[(2.5,3.5),(94.6875,116.8125)], [(3.5,5),(115.8125,0)]]"
   ]
  },
  {
   "cell_type": "code",
   "execution_count": null,
   "metadata": {},
   "outputs": [],
   "source": []
  }
 ],
 "metadata": {
  "kernelspec": {
   "display_name": "Python 2",
   "language": "python",
   "name": "python2"
  },
  "language_info": {
   "codemirror_mode": {
    "name": "ipython",
    "version": 2
   },
   "file_extension": ".py",
   "mimetype": "text/x-python",
   "name": "python",
   "nbconvert_exporter": "python",
   "pygments_lexer": "ipython2",
   "version": "2.7.15"
  }
 },
 "nbformat": 4,
 "nbformat_minor": 2
}
