{
 "cells": [
  {
   "cell_type": "code",
   "execution_count": 1,
   "metadata": {},
   "outputs": [],
   "source": [
    "import plotly.plotly as py\n",
    "import plotly.graph_objs as go\n",
    "from plotly.tools import FigureFactory as FF\n",
    "from plotly import tools, offline\n",
    "import json\n",
    "import numpy as np\n",
    "import pandas as pd\n",
    "import math\n",
    "import matplotlib.pyplot as plt\n",
    "\n",
    "mqn = pd.read_csv('model_test/test_1/mqn.csv')\n",
    "displacements = pd.read_csv('model_test/test_1/d_local.csv')\n",
    "elements = pd.read_csv('model_test/test_1/elements.csv')\n",
    "nodes = pd.read_csv('model_test/test_1/nodes.csv')"
   ]
  },
  {
   "cell_type": "code",
   "execution_count": 275,
   "metadata": {},
   "outputs": [],
   "source": []
  },
  {
   "cell_type": "code",
   "execution_count": 306,
   "metadata": {},
   "outputs": [
    {
     "name": "stdout",
     "output_type": "stream",
     "text": [
      "-412.5 -187.5\n",
      "[0, 1.25] [-412.5, -187.5]\n",
      "-187.5 -75.0\n",
      "[1.25, 2.0] [-187.5, -75.0]\n",
      "-75.0 0.0\n",
      "[2.0, 3.5] [-75.0, 0.0]\n"
     ]
    },
    {
     "data": {
      "image/png": "[encoded data removed]",
      "text/plain": [
       "<Figure size 432x288 with 1 Axes>"
      ]
     },
     "metadata": {
      "needs_background": "light"
     },
     "output_type": "display_data"
    }
   ],
   "source": [
    "L = 5 \n",
    "c1 =0.4\n",
    "c2=0.7\n",
    "c3 =0.25\n",
    "Mi = -412.5\n",
    "M_c1 = 0\n",
    "Qi =180\n",
    "Q_c2 = 50\n",
    "M_c2 = 0\n",
    "P1 = -100\n",
    "P2 = -50\n",
    "P3 = -30\n",
    "Mj = 0\n",
    "Qj = 0\n",
    "p = [P1, P2 ,P3]\n",
    "c = [c1,c2, c3]\n",
    "#c.sort()\n",
    "p__ = [x for y, x in sorted(zip(c, p))]\n",
    "c.sort()\n",
    "m_points = [(0, Mi)]\n",
    "q_points = [(0,Qi)]\n",
    "i = 0\n",
    "start = 0\n",
    "df = pd.DataFrame([],columns=['x','M'])\n",
    "for p_, c_ in zip(p__,c):\n",
    "    end = c_*L\n",
    "       \n",
    "    q_points.append((c_*L,q_points[i][1]+p_))\n",
    "    \n",
    "    M = m_points[i][1]+ q_points[i][1]*(q_points[i+1][0]-m_points[i][0])\n",
    "    m_points.append((c_*L,M))\n",
    "    i += 1\n",
    "    print(Mi, M)\n",
    "    print([start,end ], [Mi,M])\n",
    "    x = np.linspace(start, end, 10)\n",
    "    coef = np.polyfit([start,end ], [Mi,M], 1)\n",
    "    d_z = x*coef[0]+coef[1]\n",
    "    Mi = M\n",
    "    start = c_*L\n",
    "    t = {'x':x, 'M':d_z}\n",
    "    d_t = pd.DataFrame([], columns=['x','M'])\n",
    "    d_t['x'] = x\n",
    "    d_t['M'] = d_z\n",
    "    df = pd.concat([df,d_t],axis=0)\n",
    "    \n",
    "Mj=0\n",
    "x_last =np.linspace(end,L,10)\n",
    "coef = np.polyfit([end,L ], [M,Mj], 1)\n",
    "d_z = x*coef[0]+coef[1]\n",
    "d_t = pd.DataFrame([], columns=['x','M'])\n",
    "d_t['x'] = x_last\n",
    "d_t['M'] = d_z\n",
    "df = pd.concat([df,d_t],axis=0)\n",
    "plt.plot(df['x'],df['M'])\n",
    "plt.show()\n",
    "m_points.append((L, Mj))\n",
    "q_points.append((L, Qj))"
   ]
  },
  {
   "cell_type": "code",
   "execution_count": 274,
   "metadata": {},
   "outputs": [
    {
     "data": {
      "text/plain": [
       "(0, 1.25, 2.0, 3.5)"
      ]
     },
     "execution_count": 274,
     "metadata": {},
     "output_type": "execute_result"
    }
   ],
   "source": [
    "m_points[0][0], m_points[1][0], m_points[2][0], m_points[3][0]"
   ]
  },
  {
   "cell_type": "code",
   "execution_count": 223,
   "metadata": {},
   "outputs": [
    {
     "data": {
      "text/plain": [
       "[-412.5, -187.5, -75.0, 0.0]"
      ]
     },
     "execution_count": 223,
     "metadata": {},
     "output_type": "execute_result"
    }
   ],
   "source": [
    "[m_points[0][1], m_points[1][1], m_points[2][1], m_points[3][1]]"
   ]
  },
  {
   "cell_type": "code",
   "execution_count": 299,
   "metadata": {},
   "outputs": [
    {
     "data": {
      "text/plain": [
       "array([0., 0., 0., 0., 0., 0., 0., 0., 0., 0.])"
      ]
     },
     "execution_count": 299,
     "metadata": {},
     "output_type": "execute_result"
    }
   ],
   "source": [
    "np.zeros((10))\n"
   ]
  },
  {
   "cell_type": "code",
   "execution_count": 253,
   "metadata": {},
   "outputs": [
    {
     "data": {
      "text/plain": [
       "array([50., 50., 50., 50., 50., 50., 50., 50., 50., 50.])"
      ]
     },
     "execution_count": 253,
     "metadata": {},
     "output_type": "execute_result"
    }
   ],
   "source": [
    "d_z"
   ]
  },
  {
   "cell_type": "code",
   "execution_count": 254,
   "metadata": {},
   "outputs": [
    {
     "data": {
      "image/png": "[encoded data removed]",
      "text/plain": [
       "<Figure size 432x288 with 1 Axes>"
      ]
     },
     "metadata": {
      "needs_background": "light"
     },
     "output_type": "display_data"
    }
   ],
   "source": []
  },
  {
   "cell_type": "code",
   "execution_count": 197,
   "metadata": {},
   "outputs": [
    {
     "data": {
      "text/plain": [
       "-175.0"
      ]
     },
     "execution_count": 197,
     "metadata": {},
     "output_type": "execute_result"
    }
   ],
   "source": [
    "P2*c2*L"
   ]
  },
  {
   "cell_type": "code",
   "execution_count": 131,
   "metadata": {},
   "outputs": [
    {
     "data": {
      "text/plain": [
       "<zip at 0x2010b11f5c8>"
      ]
     },
     "execution_count": 131,
     "metadata": {},
     "output_type": "execute_result"
    }
   ],
   "source": []
  },
  {
   "cell_type": "code",
   "execution_count": null,
   "metadata": {},
   "outputs": [],
   "source": []
  }
 ],
 "metadata": {
  "kernelspec": {
   "display_name": "Python 3",
   "language": "python",
   "name": "python3"
  },
  "language_info": {
   "codemirror_mode": {
    "name": "ipython",
    "version": 3
   },
   "file_extension": ".py",
   "mimetype": "text/x-python",
   "name": "python",
   "nbconvert_exporter": "python",
   "pygments_lexer": "ipython3",
   "version": "3.6.7"
  }
 },
 "nbformat": 4,
 "nbformat_minor": 2
}
