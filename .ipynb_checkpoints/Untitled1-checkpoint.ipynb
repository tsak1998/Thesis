{
 "cells": [
  {
   "cell_type": "code",
   "execution_count": 29,
   "metadata": {},
   "outputs": [],
   "source": [
    "import numpy as np\n",
    "import pandas as pd\n",
    "import math"
   ]
  },
  {
   "cell_type": "code",
   "execution_count": 30,
   "metadata": {},
   "outputs": [],
   "source": [
    "d = pd.read_csv('model_test/test_1/displacements.csv',names=['n','d'])"
   ]
  },
  {
   "cell_type": "code",
   "execution_count": 31,
   "metadata": {},
   "outputs": [
    {
     "data": {
      "text/html": [
       "<div>\n",
       "<style scoped>\n",
       "    .dataframe tbody tr th:only-of-type {\n",
       "        vertical-align: middle;\n",
       "    }\n",
       "\n",
       "    .dataframe tbody tr th {\n",
       "        vertical-align: top;\n",
       "    }\n",
       "\n",
       "    .dataframe thead th {\n",
       "        text-align: right;\n",
       "    }\n",
       "</style>\n",
       "<table border=\"1\" class=\"dataframe\">\n",
       "  <thead>\n",
       "    <tr style=\"text-align: right;\">\n",
       "      <th></th>\n",
       "      <th>n</th>\n",
       "      <th>d</th>\n",
       "    </tr>\n",
       "  </thead>\n",
       "  <tbody>\n",
       "    <tr>\n",
       "      <th>0</th>\n",
       "      <td>0</td>\n",
       "      <td>0.000000</td>\n",
       "    </tr>\n",
       "    <tr>\n",
       "      <th>1</th>\n",
       "      <td>1</td>\n",
       "      <td>0.000000</td>\n",
       "    </tr>\n",
       "    <tr>\n",
       "      <th>2</th>\n",
       "      <td>2</td>\n",
       "      <td>0.000000</td>\n",
       "    </tr>\n",
       "    <tr>\n",
       "      <th>3</th>\n",
       "      <td>3</td>\n",
       "      <td>0.000000</td>\n",
       "    </tr>\n",
       "    <tr>\n",
       "      <th>4</th>\n",
       "      <td>4</td>\n",
       "      <td>0.000000</td>\n",
       "    </tr>\n",
       "    <tr>\n",
       "      <th>5</th>\n",
       "      <td>5</td>\n",
       "      <td>0.000000</td>\n",
       "    </tr>\n",
       "    <tr>\n",
       "      <th>6</th>\n",
       "      <td>6</td>\n",
       "      <td>0.004313</td>\n",
       "    </tr>\n",
       "    <tr>\n",
       "      <th>7</th>\n",
       "      <td>7</td>\n",
       "      <td>-0.004904</td>\n",
       "    </tr>\n",
       "    <tr>\n",
       "      <th>8</th>\n",
       "      <td>8</td>\n",
       "      <td>-0.001188</td>\n",
       "    </tr>\n",
       "    <tr>\n",
       "      <th>9</th>\n",
       "      <td>9</td>\n",
       "      <td>-0.001229</td>\n",
       "    </tr>\n",
       "    <tr>\n",
       "      <th>10</th>\n",
       "      <td>10</td>\n",
       "      <td>0.002857</td>\n",
       "    </tr>\n",
       "    <tr>\n",
       "      <th>11</th>\n",
       "      <td>11</td>\n",
       "      <td>0.000774</td>\n",
       "    </tr>\n",
       "    <tr>\n",
       "      <th>12</th>\n",
       "      <td>12</td>\n",
       "      <td>0.000000</td>\n",
       "    </tr>\n",
       "    <tr>\n",
       "      <th>13</th>\n",
       "      <td>13</td>\n",
       "      <td>0.000000</td>\n",
       "    </tr>\n",
       "    <tr>\n",
       "      <th>14</th>\n",
       "      <td>14</td>\n",
       "      <td>0.000000</td>\n",
       "    </tr>\n",
       "    <tr>\n",
       "      <th>15</th>\n",
       "      <td>15</td>\n",
       "      <td>0.000000</td>\n",
       "    </tr>\n",
       "    <tr>\n",
       "      <th>16</th>\n",
       "      <td>16</td>\n",
       "      <td>-0.004951</td>\n",
       "    </tr>\n",
       "    <tr>\n",
       "      <th>17</th>\n",
       "      <td>17</td>\n",
       "      <td>0.003769</td>\n",
       "    </tr>\n",
       "  </tbody>\n",
       "</table>\n",
       "</div>"
      ],
      "text/plain": [
       "     n         d\n",
       "0    0  0.000000\n",
       "1    1  0.000000\n",
       "2    2  0.000000\n",
       "3    3  0.000000\n",
       "4    4  0.000000\n",
       "5    5  0.000000\n",
       "6    6  0.004313\n",
       "7    7 -0.004904\n",
       "8    8 -0.001188\n",
       "9    9 -0.001229\n",
       "10  10  0.002857\n",
       "11  11  0.000774\n",
       "12  12  0.000000\n",
       "13  13  0.000000\n",
       "14  14  0.000000\n",
       "15  15  0.000000\n",
       "16  16 -0.004951\n",
       "17  17  0.003769"
      ]
     },
     "execution_count": 31,
     "metadata": {},
     "output_type": "execute_result"
    }
   ],
   "source": [
    "d"
   ]
  },
  {
   "cell_type": "code",
   "execution_count": 32,
   "metadata": {},
   "outputs": [],
   "source": [
    "member_2 = d.iloc[6:]['d'].get_values()"
   ]
  },
  {
   "cell_type": "code",
   "execution_count": 50,
   "metadata": {},
   "outputs": [],
   "source": [
    "member_2 = np.array([ 1.92474732e-06,\n",
    " -6.58098432e-03,\n",
    "  8.65946500e-04,\n",
    "  8.27387114e-04,\n",
    "  3.09334302e-03,\n",
    "  1.42191119e-04,\n",
    "  0.00000000e+00,\n",
    "  0.00000000e+0,\n",
    "  0.00000000e+00,\n",
    " -4.55716163e-03,\n",
    " -2.56723102e-03,\n",
    "  3.37053536e-03])"
   ]
  },
  {
   "cell_type": "code",
   "execution_count": 438,
   "metadata": {},
   "outputs": [],
   "source": [
    "member_2= np.array([ 0.00000000e+00,\n",
    "  0.00000000e+00,\n",
    "  0.00000000e+00,\n",
    "  0.00000000e+00,\n",
    "  0.00000000e+00,\n",
    "  0.00000000e+00,\n",
    " -9.23065940e-05,\n",
    " -5.37790394e-03,\n",
    " -3.88957556e-03,\n",
    "  9.26736732e-04,\n",
    "  2.72192512e-03,\n",
    "  1.41627204e-03])"
   ]
  },
  {
   "cell_type": "code",
   "execution_count": 439,
   "metadata": {},
   "outputs": [],
   "source": [
    "m2_A = member_2[:6]\n",
    "m2_B = member_2[6:]"
   ]
  },
  {
   "cell_type": "code",
   "execution_count": 440,
   "metadata": {},
   "outputs": [
    {
     "data": {
      "text/plain": [
       "array([-9.23065940e-05, -5.37790394e-03, -3.88957556e-03,  9.26736732e-04,\n",
       "        2.72192512e-03,  1.41627204e-03])"
      ]
     },
     "execution_count": 440,
     "metadata": {},
     "output_type": "execute_result"
    }
   ],
   "source": [
    "m2_B"
   ]
  },
  {
   "cell_type": "code",
   "execution_count": 454,
   "metadata": {},
   "outputs": [],
   "source": [
    "# test sto z\n",
    "length = 4.69042\n",
    "dx = 0.1\n",
    "xA = m2_A[0]\n",
    "yA = m2_A[2]\n",
    "xA_ = dx\n",
    "yA_ = dx*math.tan(m2_A[4])\n",
    "xB = length-m2_B[0]\n",
    "yB = m2_B[2]\n",
    "xB_ = length-dx\n",
    "yB_ = yB + dx*math.tan(m2_B[4])"
   ]
  },
  {
   "cell_type": "code",
   "execution_count": 510,
   "metadata": {},
   "outputs": [],
   "source": [
    "# test sto y\n",
    "length = 4.69042\n",
    "dx = 0.5\n",
    "xA = m2_A[0]\n",
    "yA = m2_A[1]\n",
    "xA_ = dx\n",
    "yA_ = dx*math.tan(m2_A[5])\n",
    "xB = length-m2_B[0]\n",
    "yB = m2_B[1]\n",
    "xB_ = length-dx\n",
    "yB_ = yB + dx*math.tan(m2_B[5])"
   ]
  },
  {
   "cell_type": "code",
   "execution_count": 511,
   "metadata": {},
   "outputs": [
    {
     "data": {
      "text/plain": [
       "([0.0, 0.5, 4.19042, 4.690512306594],\n",
       " [0.0, 0.0, -0.004669767446533624, -0.00537790394])"
      ]
     },
     "execution_count": 511,
     "metadata": {},
     "output_type": "execute_result"
    }
   ],
   "source": [
    "[xA, xA_, xB_, xB],[yA, yA_, yB_, yB]"
   ]
  },
  {
   "cell_type": "code",
   "execution_count": 512,
   "metadata": {},
   "outputs": [
    {
     "data": {
      "text/plain": [
       "<matplotlib.collections.PathCollection at 0x26db8621f60>"
      ]
     },
     "execution_count": 512,
     "metadata": {},
     "output_type": "execute_result"
    },
    {
     "data": {
      "image/png": "[encoded data removed]",
      "text/plain": [
       "<Figure size 432x288 with 1 Axes>"
      ]
     },
     "metadata": {
      "needs_background": "light"
     },
     "output_type": "display_data"
    }
   ],
   "source": [
    "import matplotlib.pyplot as plt\n",
    "plt.scatter([xA, xA_, xB, xB_],[yA, yA_, yB, yB_])"
   ]
  },
  {
   "cell_type": "code",
   "execution_count": 513,
   "metadata": {},
   "outputs": [
    {
     "name": "stderr",
     "output_type": "stream",
     "text": [
      "c:\\users\\tsaka\\appdata\\local\\programs\\python\\python36\\lib\\site-packages\\ipykernel_launcher.py:1: RankWarning: Polyfit may be poorly conditioned\n",
      "  \"\"\"Entry point for launching an IPython kernel.\n"
     ]
    }
   ],
   "source": [
    "coef = np.polyfit( [xA, xA_, xB, xB_],[yA, yA_, yB, yB_], 4)"
   ]
  },
  {
   "cell_type": "code",
   "execution_count": 514,
   "metadata": {},
   "outputs": [
    {
     "data": {
      "text/plain": [
       "array([ 8.83459045e-06, -2.61618297e-05, -3.55109732e-04,  1.82991000e-04,\n",
       "        0.00000000e+00])"
      ]
     },
     "execution_count": 514,
     "metadata": {},
     "output_type": "execute_result"
    }
   ],
   "source": [
    "coef\n"
   ]
  },
  {
   "cell_type": "code",
   "execution_count": 515,
   "metadata": {},
   "outputs": [],
   "source": [
    "x = np.linspace(0,length,50)"
   ]
  },
  {
   "cell_type": "code",
   "execution_count": 516,
   "metadata": {},
   "outputs": [
    {
     "data": {
      "text/plain": [
       "array([0.        , 0.09572286, 0.19144571, 0.28716857, 0.38289143,\n",
       "       0.47861429, 0.57433714, 0.67006   , 0.76578286, 0.86150571,\n",
       "       0.95722857, 1.05295143, 1.14867429, 1.24439714, 1.34012   ,\n",
       "       1.43584286, 1.53156571, 1.62728857, 1.72301143, 1.81873429,\n",
       "       1.91445714, 2.01018   , 2.10590286, 2.20162571, 2.29734857,\n",
       "       2.39307143, 2.48879429, 2.58451714, 2.68024   , 2.77596286,\n",
       "       2.87168571, 2.96740857, 3.06313143, 3.15885429, 3.25457714,\n",
       "       3.3503    , 3.44602286, 3.54174571, 3.63746857, 3.73319143,\n",
       "       3.82891429, 3.92463714, 4.02036   , 4.11608286, 4.21180571,\n",
       "       4.30752857, 4.40325143, 4.49897429, 4.59469714, 4.69042   ])"
      ]
     },
     "execution_count": 516,
     "metadata": {},
     "output_type": "execute_result"
    }
   ],
   "source": [
    "x"
   ]
  },
  {
   "cell_type": "code",
   "execution_count": 517,
   "metadata": {},
   "outputs": [],
   "source": [
    "d_ = x**3*coef[0]+x**2*coef[1]+x*coef[2]+coef[3]"
   ]
  },
  {
   "cell_type": "code",
   "execution_count": 518,
   "metadata": {},
   "outputs": [],
   "source": [
    "d_ = x**5*coef[0]+x**4*coef[1]+x**3*coef[2]+x**2*coef[3]+x*coef[4]+coef[5]"
   ]
  },
  {
   "cell_type": "code",
   "execution_count": 519,
   "metadata": {},
   "outputs": [
    {
     "data": {
      "text/plain": [
       "[<matplotlib.lines.Line2D at 0x26db867dd30>]"
      ]
     },
     "execution_count": 519,
     "metadata": {},
     "output_type": "execute_result"
    },
    {
     "data": {
      "image/png": "[encoded data removed]",
      "text/plain": [
       "<Figure size 432x288 with 1 Axes>"
      ]
     },
     "metadata": {
      "needs_background": "light"
     },
     "output_type": "display_data"
    }
   ],
   "source": [
    "plt.plot(x,d_)"
   ]
  },
  {
   "cell_type": "code",
   "execution_count": 507,
   "metadata": {},
   "outputs": [
    {
     "data": {
      "text/plain": [
       "(-0.005377778849475875, 3.2156048542579937e-06)"
      ]
     },
     "execution_count": 507,
     "metadata": {},
     "output_type": "execute_result"
    }
   ],
   "source": [
    "d_.min(), d_.max()"
   ]
  },
  {
   "cell_type": "code",
   "execution_count": 508,
   "metadata": {},
   "outputs": [
    {
     "data": {
      "text/plain": [
       "4.69042"
      ]
     },
     "execution_count": 508,
     "metadata": {},
     "output_type": "execute_result"
    }
   ],
   "source": [
    "x[d_.argmin()]"
   ]
  },
  {
   "cell_type": "code",
   "execution_count": 509,
   "metadata": {},
   "outputs": [
    {
     "data": {
      "text/plain": [
       "array([ 0.00000000e+00,  3.21560485e-06,  5.30274257e-07, -8.14324409e-06,\n",
       "       -2.28779881e-05, -4.37327812e-05, -7.07522325e-05, -1.03966737e-04,\n",
       "       -1.43392474e-04, -1.89031410e-04, -2.40871296e-04, -2.98885670e-04,\n",
       "       -3.63033853e-04, -4.33260955e-04, -5.09497868e-04, -5.91661273e-04,\n",
       "       -6.79653634e-04, -7.73363201e-04, -8.72664011e-04, -9.77415885e-04,\n",
       "       -1.08746443e-03, -1.20264104e-03, -1.32276290e-03, -1.44763296e-03,\n",
       "       -1.57703997e-03, -1.71075848e-03, -1.84854880e-03, -1.99015704e-03,\n",
       "       -2.13531510e-03, -2.28374064e-03, -2.43513713e-03, -2.58919382e-03,\n",
       "       -2.74558575e-03, -2.90397373e-03, -3.06400437e-03, -3.22531006e-03,\n",
       "       -3.38750899e-03, -3.55020510e-03, -3.71298815e-03, -3.87543367e-03,\n",
       "       -4.03710298e-03, -4.19754318e-03, -4.35628718e-03, -4.51285363e-03,\n",
       "       -4.66674700e-03, -4.81745755e-03, -4.96446129e-03, -5.10722006e-03,\n",
       "       -5.24518145e-03, -5.37777885e-03])"
      ]
     },
     "execution_count": 509,
     "metadata": {},
     "output_type": "execute_result"
    }
   ],
   "source": [
    "d_"
   ]
  },
  {
   "cell_type": "code",
   "execution_count": null,
   "metadata": {},
   "outputs": [],
   "source": []
  }
 ],
 "metadata": {
  "kernelspec": {
   "display_name": "Python 3",
   "language": "python",
   "name": "python3"
  },
  "language_info": {
   "codemirror_mode": {
    "name": "ipython",
    "version": 3
   },
   "file_extension": ".py",
   "mimetype": "text/x-python",
   "name": "python",
   "nbconvert_exporter": "python",
   "pygments_lexer": "ipython3",
   "version": "3.6.7"
  }
 },
 "nbformat": 4,
 "nbformat_minor": 2
}
