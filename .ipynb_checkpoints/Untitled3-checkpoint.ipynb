{
 "cells": [
  {
   "cell_type": "code",
   "execution_count": null,
   "metadata": {
    "scrolled": true
   },
   "outputs": [],
   "source": [
    "from selenium import webdriver\n",
    "from bs4 import BeautifulSoup\n",
    "import getpass\n",
    "import requests\n",
    "from selenium.webdriver.common.keys import Keys\n",
    "import pprint\n",
    "userid ='tsakalis.pantelis@gmail.com' #str(input(\"Enter email address or number with country code: \"))\n",
    "password = 'TsaK4728'#getpass.getpass('Enter your password:')\n",
    "chrome_path = './chromedriver'\n",
    "driver = webdriver.Chrome(chrome_path)\n",
    "driver.get(\"https://www.linkedin.com\")\n",
    "driver.implicitly_wait(6)\n",
    "driver.find_element_by_xpath(\"\"\"//*[@id=\"login-email\"]\"\"\").send_keys(userid)\n",
    "driver.find_element_by_xpath(\"\"\"//*[@id=\"login-password\"]\"\"\").send_keys(password)\n",
    "driver.find_element_by_xpath(\"\"\"//*[@id=\"login-submit\"]\"\"\").click()\n",
    "driver.get(\"{You connection profile link}\") #Enter any of your connection profile Link\n",
    "connectionName = driver.find_element_by_class_name('pv-top-card-section__name').get_attribute('innerHTML')\n",
    "print(connectionName)\n",
    "driver.find_element_by_css_selector('button.contact-see-more-less').click()\n",
    "content = driver.find_element_by_css_selector(\".pv-profile-section.pv-contact-info.artdeco-container-card.ember-view\")\n",
    "data = BeautifulSoup(content.get_attribute('innerHTML'), \"lxml\")\n",
    "driver.find_element_by_tag_name('body').send_keys(Keys.CONTROL + 't')\n",
    "for section in data.find_all('section'):\n",
    "    print(section)\n",
    "    for header in section.find_all('header'):\n",
    "        if header.contents[0] == 'Email':\n",
    "            section.find_all('a')\n",
    "            print(\"Email Address\" + section.a.contents[0])\n",
    "        if header.contents[0] == 'Phone':\n",
    "            section.find_all('a')\n",
    "            print(\"Phone Number :\" + section.a.contents[0])"
   ]
  },
  {
   "cell_type": "code",
   "execution_count": null,
   "metadata": {},
   "outputs": [],
   "source": []
  }
 ],
 "metadata": {
  "kernelspec": {
   "display_name": "Python 3",
   "language": "python",
   "name": "python3"
  },
  "language_info": {
   "codemirror_mode": {
    "name": "ipython",
    "version": 3
   },
   "file_extension": ".py",
   "mimetype": "text/x-python",
   "name": "python",
   "nbconvert_exporter": "python",
   "pygments_lexer": "ipython3",
   "version": "3.6.7"
  }
 },
 "nbformat": 4,
 "nbformat_minor": 2
}
