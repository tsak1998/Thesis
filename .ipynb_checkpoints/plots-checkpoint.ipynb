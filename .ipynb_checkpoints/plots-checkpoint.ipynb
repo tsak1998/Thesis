{
 "cells": [
  {
   "cell_type": "code",
   "execution_count": 1,
   "metadata": {},
   "outputs": [],
   "source": [
    "import plotly.plotly as py\n",
    "import plotly.graph_objs as go\n",
    "from plotly.tools import FigureFactory as FF\n",
    "from plotly import tools, offline\n",
    "import json\n",
    "import numpy as np\n",
    "import pandas as pd\n",
    "\n",
    "\n",
    "mqn = pd.read_csv('model_test/test_1/mqn.csv')\n"
   ]
  },
  {
   "cell_type": "code",
   "execution_count": 24,
   "metadata": {},
   "outputs": [],
   "source": [
    "\n",
    "def plot_mqn(user_id, mqn):\n",
    "    fig = tools.make_subplots(rows=3, cols=2, subplot_titles=('Fx', 'Mx',\n",
    "                                                                'Fy', 'My', 'Fz', 'Mz'))\n",
    "    fig['layout'].update(height=500, width=750)\n",
    "\n",
    "    btns = []\n",
    "    i, j = 0, 6\n",
    "    for d in mqn.groupby('en'):\n",
    "        df2 = d[1]\n",
    "\n",
    "        \n",
    "        Fx = go.Scatter(x=list(df2.x_Fx),\n",
    "                        y=list(df2.Fx),\n",
    "                        hoverinfo = ['x', 'y'],\n",
    "                        name='Mx',\n",
    "                        visible=False,\n",
    "                        showlegend=False,\n",
    "                        line=dict(color='#33CFA5'))\n",
    "\n",
    "        Fy = go.Scatter(x=list(df2.x_Fy),\n",
    "                        y=list(df2.Fy),\n",
    "                        name='My',\n",
    "                        visible=False,\n",
    "                        showlegend=False,\n",
    "                        line=dict(color='#33CFA5'))\n",
    "\n",
    "        Fz = go.Scatter(x=list(df2.x_Fz),\n",
    "                        y=list(df2.Fz),\n",
    "                        name='Mz',\n",
    "                        visible=False,\n",
    "                        showlegend=False,\n",
    "                        line=dict(color='#F06A6A'))\n",
    "\n",
    "        Mx = go.Scatter(x=list(df2.x_Mx),\n",
    "                        y=list(df2.Mx),\n",
    "                        name='Mx',\n",
    "                        visible=False,\n",
    "                        showlegend=False,\n",
    "                        line=dict(color='#33CFA5'))\n",
    "\n",
    "        My = go.Scatter(x=list(df2.x_My),\n",
    "                        y=list(df2.My),\n",
    "                        name='My',\n",
    "                        visible=False,\n",
    "                        showlegend=False,\n",
    "                        line=dict(color='#33CFA5'))\n",
    "\n",
    "        Mz = go.Scatter(x=list(df2.x_Mz),\n",
    "                        y=list(df2.Mz),\n",
    "                        name='Mz',\n",
    "                        visible=False,\n",
    "                        showlegend=False,\n",
    "                        line=dict(color='#F06A6A'))\n",
    "        \n",
    "        fig.append_trace(Fx, 1, 1)\n",
    "        fig.append_trace(Fy, 2, 1)\n",
    "        fig.append_trace(Fz, 3, 1)\n",
    "        fig.append_trace(Mx, 1, 2)\n",
    "        fig.append_trace(My, 2, 2)\n",
    "        fig.append_trace(Mz, 3, 2)\n",
    "        \n",
    "        show = np.array([True, True, True, True, True, True])\n",
    "        \n",
    "        visible = np.zeros((306*6), dtype=bool)\n",
    "        visible[i:j] = show\n",
    "        \n",
    "        element_id = df2.iloc[0].en\n",
    "        btn = dict(label = 'Element ' + str(int(element_id)) ,\n",
    "                        method = 'update',\n",
    "                        args = [{'visible': visible},\n",
    "                                {'title': 'Element '+str(int(element_id)),\n",
    "                                }])\n",
    "    \n",
    "        btns.append(btn)\n",
    "        i += 6\n",
    "        j += 6\n",
    "        \n",
    "    updatemenus = list([\n",
    "        dict(active=-1,\n",
    "            buttons=btns,\n",
    "        )\n",
    "    ])\n",
    "    fig['layout']['updatemenus'] = updatemenus\n",
    "    fig['layout']['showlegend'] = True\n",
    "    fig['layout']['hovermode'] = 'closest'\n",
    "\n",
    "    config={'showAxisDragHandles': False, \n",
    "            'showAxisRangeEntryBoxes': False, \n",
    "            'displaylogo': False,\n",
    "            'modeBarButtonsToRemove': ['toImage', 'zoom2d', 'pan2d',\n",
    "                                    'zoomIn2d', 'zoomOut2d', 'autoScale2d',\n",
    "                                    'resetScale2d', 'hoverCompareCartesian']\n",
    "        }\n",
    "\n",
    "\n",
    "    from plotly.offline.offline import _plot_html\n",
    "\n",
    "    plot_html, plotdivid, width, height = _plot_html(\n",
    "        fig, config, \"\", True, '100%', 525)\n",
    "\n",
    "    id = plot_html.split()[1][4:40]\n",
    "    plot_html = plot_html.replace('require([\"plotly\"], function(Plotly) ', '')\n",
    "    plot_html = plot_html[146:len(plot_html)-11]\n",
    "    plot_html = plot_html.replace(id, 'mqn')\n",
    "    #f_name = '/home/tsakalis/Desktop/thesis_repo/static/js/results/mqn_'+user_id+'.js'\n",
    "    f_name = 'static/js/results/mqn_' + user_id + '.js'\n",
    "    f = open(f_name,'w')\n",
    "    print(f)\n",
    "    f.write(plot_html)\n",
    "    f.close()\n"
   ]
  },
  {
   "cell_type": "code",
   "execution_count": 19,
   "metadata": {},
   "outputs": [],
   "source": [
    "mqn = pd.read_csv('model_test/test_1/mqn.csv')"
   ]
  },
  {
   "cell_type": "code",
   "execution_count": 20,
   "metadata": {},
   "outputs": [],
   "source": [
    "group = mqn.groupby('en')"
   ]
  },
  {
   "cell_type": "code",
   "execution_count": 21,
   "metadata": {},
   "outputs": [],
   "source": [
    "import time"
   ]
  },
  {
   "cell_type": "code",
   "execution_count": 25,
   "metadata": {},
   "outputs": [
    {
     "name": "stdout",
     "output_type": "stream",
     "text": [
      "This is the format of your plot grid:\n",
      "[ (1,1) x1,y1 ]  [ (1,2) x2,y2 ]\n",
      "[ (2,1) x3,y3 ]  [ (2,2) x4,y4 ]\n",
      "[ (3,1) x5,y5 ]  [ (3,2) x6,y6 ]\n",
      "\n",
      "<_io.TextIOWrapper name='static/js/results/mqn_cv13116.js' mode='w' encoding='cp1252'>\n",
      "13.136971235275269\n"
     ]
    }
   ],
   "source": [
    "t = time.time()\n",
    "plot_mqn('cv13116', mqn)\n",
    "print(time.time()-t)"
   ]
  },
  {
   "cell_type": "code",
   "execution_count": 27,
   "metadata": {},
   "outputs": [
    {
     "data": {
      "application/vnd.jupyter.widget-view+json": {
       "model_id": "c6ab0b7207b94408ba94a8b44b3a0f08",
       "version_major": 2,
       "version_minor": 0
      },
      "text/plain": [
       "FigureWidget({\n",
       "    'data': [{'type': 'bar',\n",
       "              'uid': '66799d15-62c9-4da8-9c72-dbef01c83327',\n",
       "     …"
      ]
     },
     "metadata": {},
     "output_type": "display_data"
    }
   ],
   "source": [
    "import plotly.graph_objs as go\n",
    "\n",
    "data = [go.Bar(\n",
    "            x=['giraffes', 'orangutans', 'monkeys'],\n",
    "            y=[]\n",
    "    )]\n",
    "layout = {'yaxis': {'range': [0, 25]}}\n",
    "fig = go.FigureWidget(data, layout)\n",
    "fig"
   ]
  },
  {
   "cell_type": "code",
   "execution_count": 28,
   "metadata": {},
   "outputs": [],
   "source": [
    "bar = fig.data[0]\n",
    "bar.y = [10, 15, 20]"
   ]
  },
  {
   "cell_type": "code",
   "execution_count": 38,
   "metadata": {},
   "outputs": [
    {
     "ename": "PicklingError",
     "evalue": "Can't pickle <function <lambda> at 0x00000260C27E9510>: attribute lookup <lambda> on __main__ failed",
     "output_type": "error",
     "traceback": [
      "\u001b[1;31m---------------------------------------------------------------------------\u001b[0m",
      "\u001b[1;31mPicklingError\u001b[0m                             Traceback (most recent call last)",
      "\u001b[1;32m<ipython-input-38-4538d8f563f8>\u001b[0m in \u001b[0;36m<module>\u001b[1;34m\u001b[0m\n\u001b[0;32m     10\u001b[0m run_cpu_tasks_in_parallel([\n\u001b[0;32m     11\u001b[0m     \u001b[1;32mlambda\u001b[0m\u001b[1;33m:\u001b[0m \u001b[0mprint\u001b[0m\u001b[1;33m(\u001b[0m\u001b[1;34m'CPU task 1 running!'\u001b[0m\u001b[1;33m)\u001b[0m\u001b[1;33m,\u001b[0m\u001b[1;33m\u001b[0m\u001b[1;33m\u001b[0m\u001b[0m\n\u001b[1;32m---> 12\u001b[1;33m     \u001b[1;32mlambda\u001b[0m\u001b[1;33m:\u001b[0m \u001b[0mprint\u001b[0m\u001b[1;33m(\u001b[0m\u001b[1;34m'CPU task 2 running!'\u001b[0m\u001b[1;33m)\u001b[0m\u001b[1;33m,\u001b[0m\u001b[1;33m\u001b[0m\u001b[1;33m\u001b[0m\u001b[0m\n\u001b[0m\u001b[0;32m     13\u001b[0m ])\n",
      "\u001b[1;32m<ipython-input-38-4538d8f563f8>\u001b[0m in \u001b[0;36mrun_cpu_tasks_in_parallel\u001b[1;34m(tasks)\u001b[0m\n\u001b[0;32m      4\u001b[0m     \u001b[0mrunning_tasks\u001b[0m \u001b[1;33m=\u001b[0m \u001b[1;33m[\u001b[0m\u001b[0mProcess\u001b[0m\u001b[1;33m(\u001b[0m\u001b[0mtarget\u001b[0m\u001b[1;33m=\u001b[0m\u001b[0mtask\u001b[0m\u001b[1;33m)\u001b[0m \u001b[1;32mfor\u001b[0m \u001b[0mtask\u001b[0m \u001b[1;32min\u001b[0m \u001b[0mtasks\u001b[0m\u001b[1;33m]\u001b[0m\u001b[1;33m\u001b[0m\u001b[1;33m\u001b[0m\u001b[0m\n\u001b[0;32m      5\u001b[0m     \u001b[1;32mfor\u001b[0m \u001b[0mrunning_task\u001b[0m \u001b[1;32min\u001b[0m \u001b[0mrunning_tasks\u001b[0m\u001b[1;33m:\u001b[0m\u001b[1;33m\u001b[0m\u001b[1;33m\u001b[0m\u001b[0m\n\u001b[1;32m----> 6\u001b[1;33m         \u001b[0mrunning_task\u001b[0m\u001b[1;33m.\u001b[0m\u001b[0mstart\u001b[0m\u001b[1;33m(\u001b[0m\u001b[1;33m)\u001b[0m\u001b[1;33m\u001b[0m\u001b[1;33m\u001b[0m\u001b[0m\n\u001b[0m\u001b[0;32m      7\u001b[0m     \u001b[1;32mfor\u001b[0m \u001b[0mrunning_task\u001b[0m \u001b[1;32min\u001b[0m \u001b[0mrunning_tasks\u001b[0m\u001b[1;33m:\u001b[0m\u001b[1;33m\u001b[0m\u001b[1;33m\u001b[0m\u001b[0m\n\u001b[0;32m      8\u001b[0m         \u001b[0mrunning_task\u001b[0m\u001b[1;33m.\u001b[0m\u001b[0mjoin\u001b[0m\u001b[1;33m(\u001b[0m\u001b[1;33m)\u001b[0m\u001b[1;33m\u001b[0m\u001b[1;33m\u001b[0m\u001b[0m\n",
      "\u001b[1;32mc:\\users\\tsaka\\appdata\\local\\programs\\python\\python36\\lib\\multiprocessing\\process.py\u001b[0m in \u001b[0;36mstart\u001b[1;34m(self)\u001b[0m\n\u001b[0;32m    103\u001b[0m                \u001b[1;34m'daemonic processes are not allowed to have children'\u001b[0m\u001b[1;33m\u001b[0m\u001b[1;33m\u001b[0m\u001b[0m\n\u001b[0;32m    104\u001b[0m         \u001b[0m_cleanup\u001b[0m\u001b[1;33m(\u001b[0m\u001b[1;33m)\u001b[0m\u001b[1;33m\u001b[0m\u001b[1;33m\u001b[0m\u001b[0m\n\u001b[1;32m--> 105\u001b[1;33m         \u001b[0mself\u001b[0m\u001b[1;33m.\u001b[0m\u001b[0m_popen\u001b[0m \u001b[1;33m=\u001b[0m \u001b[0mself\u001b[0m\u001b[1;33m.\u001b[0m\u001b[0m_Popen\u001b[0m\u001b[1;33m(\u001b[0m\u001b[0mself\u001b[0m\u001b[1;33m)\u001b[0m\u001b[1;33m\u001b[0m\u001b[1;33m\u001b[0m\u001b[0m\n\u001b[0m\u001b[0;32m    106\u001b[0m         \u001b[0mself\u001b[0m\u001b[1;33m.\u001b[0m\u001b[0m_sentinel\u001b[0m \u001b[1;33m=\u001b[0m \u001b[0mself\u001b[0m\u001b[1;33m.\u001b[0m\u001b[0m_popen\u001b[0m\u001b[1;33m.\u001b[0m\u001b[0msentinel\u001b[0m\u001b[1;33m\u001b[0m\u001b[1;33m\u001b[0m\u001b[0m\n\u001b[0;32m    107\u001b[0m         \u001b[1;31m# Avoid a refcycle if the target function holds an indirect\u001b[0m\u001b[1;33m\u001b[0m\u001b[1;33m\u001b[0m\u001b[1;33m\u001b[0m\u001b[0m\n",
      "\u001b[1;32mc:\\users\\tsaka\\appdata\\local\\programs\\python\\python36\\lib\\multiprocessing\\context.py\u001b[0m in \u001b[0;36m_Popen\u001b[1;34m(process_obj)\u001b[0m\n\u001b[0;32m    221\u001b[0m     \u001b[1;33m@\u001b[0m\u001b[0mstaticmethod\u001b[0m\u001b[1;33m\u001b[0m\u001b[1;33m\u001b[0m\u001b[0m\n\u001b[0;32m    222\u001b[0m     \u001b[1;32mdef\u001b[0m \u001b[0m_Popen\u001b[0m\u001b[1;33m(\u001b[0m\u001b[0mprocess_obj\u001b[0m\u001b[1;33m)\u001b[0m\u001b[1;33m:\u001b[0m\u001b[1;33m\u001b[0m\u001b[1;33m\u001b[0m\u001b[0m\n\u001b[1;32m--> 223\u001b[1;33m         \u001b[1;32mreturn\u001b[0m \u001b[0m_default_context\u001b[0m\u001b[1;33m.\u001b[0m\u001b[0mget_context\u001b[0m\u001b[1;33m(\u001b[0m\u001b[1;33m)\u001b[0m\u001b[1;33m.\u001b[0m\u001b[0mProcess\u001b[0m\u001b[1;33m.\u001b[0m\u001b[0m_Popen\u001b[0m\u001b[1;33m(\u001b[0m\u001b[0mprocess_obj\u001b[0m\u001b[1;33m)\u001b[0m\u001b[1;33m\u001b[0m\u001b[1;33m\u001b[0m\u001b[0m\n\u001b[0m\u001b[0;32m    224\u001b[0m \u001b[1;33m\u001b[0m\u001b[0m\n\u001b[0;32m    225\u001b[0m \u001b[1;32mclass\u001b[0m \u001b[0mDefaultContext\u001b[0m\u001b[1;33m(\u001b[0m\u001b[0mBaseContext\u001b[0m\u001b[1;33m)\u001b[0m\u001b[1;33m:\u001b[0m\u001b[1;33m\u001b[0m\u001b[1;33m\u001b[0m\u001b[0m\n",
      "\u001b[1;32mc:\\users\\tsaka\\appdata\\local\\programs\\python\\python36\\lib\\multiprocessing\\context.py\u001b[0m in \u001b[0;36m_Popen\u001b[1;34m(process_obj)\u001b[0m\n\u001b[0;32m    320\u001b[0m         \u001b[1;32mdef\u001b[0m \u001b[0m_Popen\u001b[0m\u001b[1;33m(\u001b[0m\u001b[0mprocess_obj\u001b[0m\u001b[1;33m)\u001b[0m\u001b[1;33m:\u001b[0m\u001b[1;33m\u001b[0m\u001b[1;33m\u001b[0m\u001b[0m\n\u001b[0;32m    321\u001b[0m             \u001b[1;32mfrom\u001b[0m \u001b[1;33m.\u001b[0m\u001b[0mpopen_spawn_win32\u001b[0m \u001b[1;32mimport\u001b[0m \u001b[0mPopen\u001b[0m\u001b[1;33m\u001b[0m\u001b[1;33m\u001b[0m\u001b[0m\n\u001b[1;32m--> 322\u001b[1;33m             \u001b[1;32mreturn\u001b[0m \u001b[0mPopen\u001b[0m\u001b[1;33m(\u001b[0m\u001b[0mprocess_obj\u001b[0m\u001b[1;33m)\u001b[0m\u001b[1;33m\u001b[0m\u001b[1;33m\u001b[0m\u001b[0m\n\u001b[0m\u001b[0;32m    323\u001b[0m \u001b[1;33m\u001b[0m\u001b[0m\n\u001b[0;32m    324\u001b[0m     \u001b[1;32mclass\u001b[0m \u001b[0mSpawnContext\u001b[0m\u001b[1;33m(\u001b[0m\u001b[0mBaseContext\u001b[0m\u001b[1;33m)\u001b[0m\u001b[1;33m:\u001b[0m\u001b[1;33m\u001b[0m\u001b[1;33m\u001b[0m\u001b[0m\n",
      "\u001b[1;32mc:\\users\\tsaka\\appdata\\local\\programs\\python\\python36\\lib\\multiprocessing\\popen_spawn_win32.py\u001b[0m in \u001b[0;36m__init__\u001b[1;34m(self, process_obj)\u001b[0m\n\u001b[0;32m     63\u001b[0m             \u001b[1;32mtry\u001b[0m\u001b[1;33m:\u001b[0m\u001b[1;33m\u001b[0m\u001b[1;33m\u001b[0m\u001b[0m\n\u001b[0;32m     64\u001b[0m                 \u001b[0mreduction\u001b[0m\u001b[1;33m.\u001b[0m\u001b[0mdump\u001b[0m\u001b[1;33m(\u001b[0m\u001b[0mprep_data\u001b[0m\u001b[1;33m,\u001b[0m \u001b[0mto_child\u001b[0m\u001b[1;33m)\u001b[0m\u001b[1;33m\u001b[0m\u001b[1;33m\u001b[0m\u001b[0m\n\u001b[1;32m---> 65\u001b[1;33m                 \u001b[0mreduction\u001b[0m\u001b[1;33m.\u001b[0m\u001b[0mdump\u001b[0m\u001b[1;33m(\u001b[0m\u001b[0mprocess_obj\u001b[0m\u001b[1;33m,\u001b[0m \u001b[0mto_child\u001b[0m\u001b[1;33m)\u001b[0m\u001b[1;33m\u001b[0m\u001b[1;33m\u001b[0m\u001b[0m\n\u001b[0m\u001b[0;32m     66\u001b[0m             \u001b[1;32mfinally\u001b[0m\u001b[1;33m:\u001b[0m\u001b[1;33m\u001b[0m\u001b[1;33m\u001b[0m\u001b[0m\n\u001b[0;32m     67\u001b[0m                 \u001b[0mset_spawning_popen\u001b[0m\u001b[1;33m(\u001b[0m\u001b[1;32mNone\u001b[0m\u001b[1;33m)\u001b[0m\u001b[1;33m\u001b[0m\u001b[1;33m\u001b[0m\u001b[0m\n",
      "\u001b[1;32mc:\\users\\tsaka\\appdata\\local\\programs\\python\\python36\\lib\\multiprocessing\\reduction.py\u001b[0m in \u001b[0;36mdump\u001b[1;34m(obj, file, protocol)\u001b[0m\n\u001b[0;32m     58\u001b[0m \u001b[1;32mdef\u001b[0m \u001b[0mdump\u001b[0m\u001b[1;33m(\u001b[0m\u001b[0mobj\u001b[0m\u001b[1;33m,\u001b[0m \u001b[0mfile\u001b[0m\u001b[1;33m,\u001b[0m \u001b[0mprotocol\u001b[0m\u001b[1;33m=\u001b[0m\u001b[1;32mNone\u001b[0m\u001b[1;33m)\u001b[0m\u001b[1;33m:\u001b[0m\u001b[1;33m\u001b[0m\u001b[1;33m\u001b[0m\u001b[0m\n\u001b[0;32m     59\u001b[0m     \u001b[1;34m'''Replacement for pickle.dump() using ForkingPickler.'''\u001b[0m\u001b[1;33m\u001b[0m\u001b[1;33m\u001b[0m\u001b[0m\n\u001b[1;32m---> 60\u001b[1;33m     \u001b[0mForkingPickler\u001b[0m\u001b[1;33m(\u001b[0m\u001b[0mfile\u001b[0m\u001b[1;33m,\u001b[0m \u001b[0mprotocol\u001b[0m\u001b[1;33m)\u001b[0m\u001b[1;33m.\u001b[0m\u001b[0mdump\u001b[0m\u001b[1;33m(\u001b[0m\u001b[0mobj\u001b[0m\u001b[1;33m)\u001b[0m\u001b[1;33m\u001b[0m\u001b[1;33m\u001b[0m\u001b[0m\n\u001b[0m\u001b[0;32m     61\u001b[0m \u001b[1;33m\u001b[0m\u001b[0m\n\u001b[0;32m     62\u001b[0m \u001b[1;31m#\u001b[0m\u001b[1;33m\u001b[0m\u001b[1;33m\u001b[0m\u001b[1;33m\u001b[0m\u001b[0m\n",
      "\u001b[1;31mPicklingError\u001b[0m: Can't pickle <function <lambda> at 0x00000260C27E9510>: attribute lookup <lambda> on __main__ failed"
     ]
    }
   ],
   "source": []
  },
  {
   "cell_type": "code",
   "execution_count": 36,
   "metadata": {},
   "outputs": [],
   "source": [
    "def runInParallel(*fns):\n",
    "  proc = []\n",
    "  for fn in fns:\n",
    "    p = Process(target=fn)\n",
    "    p.start()\n",
    "    proc.append(p)\n",
    "  for p in proc:\n",
    "    p.join()\n",
    "\n",
    "runInParallel(func1, func2)"
   ]
  },
  {
   "cell_type": "code",
   "execution_count": 37,
   "metadata": {},
   "outputs": [],
   "source": [
    "runInParallel(func1, func2)\n"
   ]
  },
  {
   "cell_type": "code",
   "execution_count": null,
   "metadata": {},
   "outputs": [],
   "source": [
    "updatemenus = list([\n",
    "        dict(active=-1,\n",
    "            buttons=btns,\n",
    "        )\n",
    "    ])\n",
    "    fig['layout']['updatemenus'] = updatemenus\n",
    "    fig['layout']['showlegend'] = False\n",
    "    fig['layout']['hovermode'] = 'closest'\n",
    "\n",
    "    config={'showAxisDragHandles': False, \n",
    "            'showAxisRangeEntryBoxes': False, \n",
    "            'displaylogo': False,\n",
    "            'modeBarButtonsToRemove': ['toImage', 'zoom2d', 'pan2d',\n",
    "                                    'zoomIn2d', 'zoomOut2d', 'autoScale2d',\n",
    "                                    'resetScale2d', 'hoverCompareCartesian']\n",
    "        }\n",
    "\n",
    "\n",
    "    from plotly.offline.offline import _plot_html\n",
    "\n",
    "    plot_html, plotdivid, width, height = _plot_html(\n",
    "        fig, config, \"\", True, '100%', 525)\n",
    "\n",
    "    id = plot_html.split()[1][4:40]\n",
    "    plot_html = plot_html.replace('require([\"plotly\"], function(Plotly) ', '')\n",
    "    plot_html = plot_html[146:len(plot_html)-11]\n",
    "    plot_html = plot_html.replace(id, 'mqn')\n",
    "    #f_name = '/home/tsakalis/Desktop/thesis_repo/static/js/results/mqn_'+user_id+'.js'\n",
    "    f_name = 'static/js/results/mqn_' + user_id + '.js'\n",
    "    f = open(f_name,'w')\n",
    "    print(f)\n",
    "    f.write(plot_html)\n",
    "    f.close()"
   ]
  }
 ],
 "metadata": {
  "kernelspec": {
   "display_name": "Python 3",
   "language": "python",
   "name": "python3"
  },
  "language_info": {
   "codemirror_mode": {
    "name": "ipython",
    "version": 3
   },
   "file_extension": ".py",
   "mimetype": "text/x-python",
   "name": "python",
   "nbconvert_exporter": "python",
   "pygments_lexer": "ipython3",
   "version": "3.6.7"
  }
 },
 "nbformat": 4,
 "nbformat_minor": 2
}
