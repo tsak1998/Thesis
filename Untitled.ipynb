{
 "cells": [
  {
   "cell_type": "code",
   "execution_count": 6,
   "metadata": {},
   "outputs": [],
   "source": [
    "import plotly.plotly as py\n",
    "import plotly.graph_objs as go\n",
    "from plotly.tools import FigureFactory as FF\n",
    "from plotly import tools, offline\n",
    "import json\n",
    "import numpy as np\n",
    "import pandas as pd\n",
    "import math\n",
    "import matplotlib.pyplot as plt\n",
    "\n",
    "mqn = pd.read_csv('model_test/test_1/mqn.csv')\n",
    "displacements = pd.read_csv('model_test/test_1/d_local.csv')\n",
    "elements = pd.read_csv('model_test/test_1/elements.csv')\n",
    "nodes = pd.read_csv('model_test/test_1/nodes.csv')"
   ]
  },
  {
   "cell_type": "code",
   "execution_count": null,
   "metadata": {},
   "outputs": [],
   "source": []
  },
  {
   "cell_type": "code",
   "execution_count": 10,
   "metadata": {},
   "outputs": [
    {
     "name": "stdout",
     "output_type": "stream",
     "text": [
      "-412.5 -712.5\n",
      "[0, 2.0] [-150, -150]\n",
      "-712.5 -762.5\n",
      "[2.0, 3.0] [-50, -50]\n"
     ]
    },
    {
     "data": {
      "image/png": "[encoded data removed]",
      "text/plain": [
       "<Figure size 432x288 with 1 Axes>"
      ]
     },
     "metadata": {
      "needs_background": "light"
     },
     "output_type": "display_data"
    }
   ],
   "source": [
    "L = 5 \n",
    "c1 =0.4\n",
    "c2=0.6\n",
    "c3 =0.8\n",
    "Mi = -412.5\n",
    "M_c1 = 0\n",
    "Qi = -150\n",
    "Q_c2 = 50\n",
    "M_c2 = 0\n",
    "P1 = 100\n",
    "P2 = 50\n",
    "\n",
    "Mj = 0\n",
    "Qj = 0\n",
    "p = [P1, P2]\n",
    "c = [c1,c2]\n",
    "#c.sort()\n",
    "p__ = [x for y, x in sorted(zip(c, p))]\n",
    "c.sort()\n",
    "m_points = [(0, Mi)]\n",
    "q_points = [(0,Qi)]\n",
    "i = 0\n",
    "start = 0\n",
    "df = pd.DataFrame([],columns=['x','M'])\n",
    "for p_, c_ in zip(p__,c):\n",
    "    end = c_*L\n",
    "       \n",
    "    q_points.append((c_*L,q_points[i][1]+p_))\n",
    "    Q = Qi\n",
    "    M = m_points[i][1]+ q_points[i][1]*(q_points[i+1][0]-m_points[i][0])\n",
    "    m_points.append((c_*L,M))\n",
    "    i += 1\n",
    "    print(Mi, M)\n",
    "    print([start,end ], [Qi,Q])\n",
    "    x = np.linspace(start, end, 10)\n",
    "    coef = np.polyfit([start,end ], [Qi,Q], 1)\n",
    "    d_z = x*coef[0]+coef[1]\n",
    "    Mi = M\n",
    "    Qi = Q+p_\n",
    "    start = c_*L\n",
    "    t = {'x':x, 'M':d_z}\n",
    "    d_t = pd.DataFrame([], columns=['x','M'])\n",
    "    d_t['x'] = x\n",
    "    d_t['M'] = d_z\n",
    "    df = pd.concat([df,d_t],axis=0)\n",
    "    \n",
    "Mj=0\n",
    "x_last =np.linspace(end,L,10)\n",
    "coef = np.polyfit([end,L ], [Qi,Qj], 1)\n",
    "d_z = x*coef[0]+coef[1]\n",
    "d_t = pd.DataFrame([], columns=['x','M'])\n",
    "d_t['x'] = x_last\n",
    "d_t['M'] = d_z\n",
    "df = pd.concat([df,d_t],axis=0)\n",
    "plt.plot(df['x'],df['M'])\n",
    "plt.show()\n",
    "m_points.append((L, Mj))\n",
    "q_points.append((L, Qj))"
   ]
  },
  {
   "cell_type": "code",
   "execution_count": 14,
   "metadata": {},
   "outputs": [
    {
     "data": {
      "image/png": "[encoded data removed]",
      "text/plain": [
       "<Figure size 432x288 with 1 Axes>"
      ]
     },
     "metadata": {
      "needs_background": "light"
     },
     "output_type": "display_data"
    }
   ],
   "source": [
    "L = 5 \n",
    "c1 =0.4\n",
    "c2=0.6\n",
    "Qi = -150\n",
    "Q_c2 = 50\n",
    "M_c2 = 0\n",
    "P1 = 100\n",
    "P2 = 50\n",
    "\n",
    "\n",
    "Qj = 0\n",
    "p = [P1, P2]\n",
    "c = [c1,c2]\n",
    "#c.sort()\n",
    "p__ = [x for y, x in sorted(zip(c, p))]\n",
    "c.sort()\n",
    "m_points = [(0, Mi)]\n",
    "q_points = [(0,Qi)]\n",
    "i = 0\n",
    "start = 0\n",
    "df = pd.DataFrame([],columns=['x','Fx', 'Fy', 'Fz', 'Mx', 'My', 'Mz'])\n",
    "for p_, c_ in zip(p__,c):\n",
    "    end = c_*L\n",
    "    Q = Qi\n",
    "    x = np.linspace(start, end, 10)\n",
    "    coef = np.polyfit([start,end ], [Qi,Q], 1)\n",
    "    f_y = x*coef[0]+coef[1]\n",
    "    Qi = Q+p_\n",
    "    start = c_*L\n",
    "    d_t = pd.DataFrame([], columns=['x','Fy'])\n",
    "    d_t['x'] = x\n",
    "    d_t['Fy'] = f_y\n",
    "    df = pd.concat([df,d_t],axis=0, sort=False)\n",
    "    i += 1\n",
    "x_last =np.linspace(end,L,10)\n",
    "coef = np.polyfit([end,L ], [Qi,Qj], 1)\n",
    "f_y = x*coef[0]+coef[1]\n",
    "d_t = pd.DataFrame([], columns=['x','M'])\n",
    "d_t['x'] = x_last\n",
    "d_t['Fy'] = f_y\n",
    "df = pd.concat([df,d_t],axis=0,sort=False)\n",
    "plt.plot(df['x'],df['Fy'])\n",
    "plt.show()\n",
    "m_points.append((L, Mj))\n",
    "q_points.append((L, Qj))"
   ]
  },
  {
   "cell_type": "code",
   "execution_count": 15,
   "metadata": {},
   "outputs": [
    {
     "ename": "IndexError",
     "evalue": "list index out of range",
     "output_type": "error",
     "traceback": [
      "\u001b[1;31m---------------------------------------------------------------------------\u001b[0m",
      "\u001b[1;31mIndexError\u001b[0m                                Traceback (most recent call last)",
      "\u001b[1;32m<ipython-input-15-63b968cd378f>\u001b[0m in \u001b[0;36m<module>\u001b[1;34m\u001b[0m\n\u001b[1;32m----> 1\u001b[1;33m \u001b[1;33m[\u001b[0m\u001b[0mm_points\u001b[0m\u001b[1;33m[\u001b[0m\u001b[1;36m0\u001b[0m\u001b[1;33m]\u001b[0m\u001b[1;33m[\u001b[0m\u001b[1;36m1\u001b[0m\u001b[1;33m]\u001b[0m\u001b[1;33m,\u001b[0m \u001b[0mm_points\u001b[0m\u001b[1;33m[\u001b[0m\u001b[1;36m1\u001b[0m\u001b[1;33m]\u001b[0m\u001b[1;33m[\u001b[0m\u001b[1;36m1\u001b[0m\u001b[1;33m]\u001b[0m\u001b[1;33m,\u001b[0m \u001b[0mm_points\u001b[0m\u001b[1;33m[\u001b[0m\u001b[1;36m2\u001b[0m\u001b[1;33m]\u001b[0m\u001b[1;33m[\u001b[0m\u001b[1;36m1\u001b[0m\u001b[1;33m]\u001b[0m\u001b[1;33m,\u001b[0m \u001b[0mm_points\u001b[0m\u001b[1;33m[\u001b[0m\u001b[1;36m3\u001b[0m\u001b[1;33m]\u001b[0m\u001b[1;33m[\u001b[0m\u001b[1;36m1\u001b[0m\u001b[1;33m]\u001b[0m\u001b[1;33m]\u001b[0m\u001b[1;33m\u001b[0m\u001b[1;33m\u001b[0m\u001b[0m\n\u001b[0m",
      "\u001b[1;31mIndexError\u001b[0m: list index out of range"
     ]
    }
   ],
   "source": [
    "[m_points[0][1], m_points[1][1], m_points[2][1], m_points[3][1]]"
   ]
  },
  {
   "cell_type": "code",
   "execution_count": 5,
   "metadata": {},
   "outputs": [
    {
     "data": {
      "text/plain": [
       "array([0., 0., 0., 0., 0., 0., 0., 0., 0., 0.])"
      ]
     },
     "execution_count": 5,
     "metadata": {},
     "output_type": "execute_result"
    }
   ],
   "source": [
    "np.zeros((10))\n"
   ]
  },
  {
   "cell_type": "code",
   "execution_count": 253,
   "metadata": {},
   "outputs": [
    {
     "data": {
      "text/plain": [
       "array([50., 50., 50., 50., 50., 50., 50., 50., 50., 50.])"
      ]
     },
     "execution_count": 253,
     "metadata": {},
     "output_type": "execute_result"
    }
   ],
   "source": [
    "d_z"
   ]
  },
  {
   "cell_type": "code",
   "execution_count": 254,
   "metadata": {},
   "outputs": [
    {
     "data": {
      "image/png": "[encoded data removed]",
      "text/plain": [
       "<Figure size 432x288 with 1 Axes>"
      ]
     },
     "metadata": {
      "needs_background": "light"
     },
     "output_type": "display_data"
    }
   ],
   "source": []
  },
  {
   "cell_type": "code",
   "execution_count": 197,
   "metadata": {},
   "outputs": [
    {
     "data": {
      "text/plain": [
       "-175.0"
      ]
     },
     "execution_count": 197,
     "metadata": {},
     "output_type": "execute_result"
    }
   ],
   "source": [
    "P2*c2*L"
   ]
  },
  {
   "cell_type": "code",
   "execution_count": 131,
   "metadata": {},
   "outputs": [
    {
     "data": {
      "text/plain": [
       "<zip at 0x2010b11f5c8>"
      ]
     },
     "execution_count": 131,
     "metadata": {},
     "output_type": "execute_result"
    }
   ],
   "source": []
  },
  {
   "cell_type": "code",
   "execution_count": null,
   "metadata": {},
   "outputs": [],
   "source": []
  }
 ],
 "metadata": {
  "kernelspec": {
   "display_name": "Python 3",
   "language": "python",
   "name": "python3"
  },
  "language_info": {
   "codemirror_mode": {
    "name": "ipython",
    "version": 3
   },
   "file_extension": ".py",
   "mimetype": "text/x-python",
   "name": "python",
   "nbconvert_exporter": "python",
   "pygments_lexer": "ipython3",
   "version": "3.6.7"
  }
 },
 "nbformat": 4,
 "nbformat_minor": 2
}
