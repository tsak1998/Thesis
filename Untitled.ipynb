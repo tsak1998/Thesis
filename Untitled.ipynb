{
 "cells": [
  {
   "cell_type": "code",
   "execution_count": 1,
   "metadata": {},
   "outputs": [],
   "source": [
    "import plotly.plotly as py\n",
    "import plotly.graph_objs as go\n",
    "from plotly.tools import FigureFactory as FF\n",
    "from plotly import tools, offline\n",
    "import json\n",
    "import numpy as np\n",
    "import pandas as pd\n",
    "import math\n",
    "import matplotlib.pyplot as plt\n"
   ]
  },
  {
   "cell_type": "code",
   "execution_count": 2,
   "metadata": {},
   "outputs": [],
   "source": [
    "mqn = pd.read_csv('model_test/test_1/mqn.csv')\n",
    "displacements = pd.read_csv('model_test/test_1/d_local.csv')\n",
    "elements = pd.read_csv('model_test/test_1/elements.csv')\n",
    "nodes = pd.read_csv('model_test/test_1/nodes.csv')\n",
    "point_loads = pd.read_csv('model_test/test_1/point_loads_rotated.csv')"
   ]
  },
  {
   "cell_type": "code",
   "execution_count": 3,
   "metadata": {},
   "outputs": [
    {
     "data": {
      "text/html": [
       "<div>\n",
       "<style scoped>\n",
       "    .dataframe tbody tr th:only-of-type {\n",
       "        vertical-align: middle;\n",
       "    }\n",
       "\n",
       "    .dataframe tbody tr th {\n",
       "        vertical-align: top;\n",
       "    }\n",
       "\n",
       "    .dataframe thead th {\n",
       "        text-align: right;\n",
       "    }\n",
       "</style>\n",
       "<table border=\"1\" class=\"dataframe\">\n",
       "  <thead>\n",
       "    <tr style=\"text-align: right;\">\n",
       "      <th></th>\n",
       "      <th>Unnamed: 0</th>\n",
       "      <th>user_id</th>\n",
       "      <th>nn</th>\n",
       "      <th>c</th>\n",
       "      <th>p_x</th>\n",
       "      <th>p_y</th>\n",
       "      <th>p_z</th>\n",
       "      <th>m_x</th>\n",
       "      <th>m_y</th>\n",
       "      <th>m_z</th>\n",
       "    </tr>\n",
       "  </thead>\n",
       "  <tbody>\n",
       "    <tr>\n",
       "      <th>0</th>\n",
       "      <td>0</td>\n",
       "      <td>cv13116</td>\n",
       "      <td>2</td>\n",
       "      <td>0.5</td>\n",
       "      <td>0.0</td>\n",
       "      <td>97.014250</td>\n",
       "      <td>-24.253563</td>\n",
       "      <td>0.0</td>\n",
       "      <td>0.0</td>\n",
       "      <td>0.0</td>\n",
       "    </tr>\n",
       "    <tr>\n",
       "      <th>1</th>\n",
       "      <td>1</td>\n",
       "      <td>cv13116</td>\n",
       "      <td>5</td>\n",
       "      <td>0.5</td>\n",
       "      <td>0.0</td>\n",
       "      <td>99.227788</td>\n",
       "      <td>-12.403473</td>\n",
       "      <td>0.0</td>\n",
       "      <td>0.0</td>\n",
       "      <td>0.0</td>\n",
       "    </tr>\n",
       "    <tr>\n",
       "      <th>2</th>\n",
       "      <td>2</td>\n",
       "      <td>cv13116</td>\n",
       "      <td>7</td>\n",
       "      <td>0.5</td>\n",
       "      <td>0.0</td>\n",
       "      <td>97.014250</td>\n",
       "      <td>-24.253563</td>\n",
       "      <td>0.0</td>\n",
       "      <td>0.0</td>\n",
       "      <td>0.0</td>\n",
       "    </tr>\n",
       "    <tr>\n",
       "      <th>3</th>\n",
       "      <td>3</td>\n",
       "      <td>cv13116</td>\n",
       "      <td>9</td>\n",
       "      <td>0.5</td>\n",
       "      <td>0.0</td>\n",
       "      <td>99.227788</td>\n",
       "      <td>-12.403473</td>\n",
       "      <td>0.0</td>\n",
       "      <td>0.0</td>\n",
       "      <td>0.0</td>\n",
       "    </tr>\n",
       "    <tr>\n",
       "      <th>4</th>\n",
       "      <td>4</td>\n",
       "      <td>cv13116</td>\n",
       "      <td>12</td>\n",
       "      <td>0.5</td>\n",
       "      <td>0.0</td>\n",
       "      <td>99.654576</td>\n",
       "      <td>-8.304548</td>\n",
       "      <td>0.0</td>\n",
       "      <td>0.0</td>\n",
       "      <td>0.0</td>\n",
       "    </tr>\n",
       "  </tbody>\n",
       "</table>\n",
       "</div>"
      ],
      "text/plain": [
       "   Unnamed: 0  user_id  nn    c  p_x        p_y        p_z  m_x  m_y  m_z\n",
       "0           0  cv13116   2  0.5  0.0  97.014250 -24.253563  0.0  0.0  0.0\n",
       "1           1  cv13116   5  0.5  0.0  99.227788 -12.403473  0.0  0.0  0.0\n",
       "2           2  cv13116   7  0.5  0.0  97.014250 -24.253563  0.0  0.0  0.0\n",
       "3           3  cv13116   9  0.5  0.0  99.227788 -12.403473  0.0  0.0  0.0\n",
       "4           4  cv13116  12  0.5  0.0  99.654576  -8.304548  0.0  0.0  0.0"
      ]
     },
     "execution_count": 3,
     "metadata": {},
     "output_type": "execute_result"
    }
   ],
   "source": [
    "point_loads"
   ]
  },
  {
   "cell_type": "code",
   "execution_count": 4,
   "metadata": {},
   "outputs": [],
   "source": [
    "element = elements.loc[elements['en']==1].squeeze()"
   ]
  },
  {
   "cell_type": "code",
   "execution_count": 5,
   "metadata": {},
   "outputs": [],
   "source": [
    "q_i = [294.336, 90.0511, 56.603, -37.17, -50.887, -54.7768]\n",
    "q_j = [26.885, 29.7488, -25.179, 26.79, -11.448, 5.7522]"
   ]
  },
  {
   "cell_type": "code",
   "execution_count": 6,
   "metadata": {},
   "outputs": [
    {
     "name": "stdout",
     "output_type": "stream",
     "text": [
      "(-37.17, -37.17)\n",
      "(-37.17, -37.17)\n",
      "(-37.17, -37.17)\n",
      "(-37.17, -37.17)\n",
      "(-37.17, -37.17)\n"
     ]
    }
   ],
   "source": [
    "start = 0\n",
    "Fxi = q_i[0]\n",
    "Fyi = q_i[1]\n",
    "Fzi = q_i[2]\n",
    "Mxi = q_i[3]\n",
    "Myi = q_i[4]\n",
    "Mzi = q_i[5]\n",
    "\n",
    "Fxj = q_j[0]\n",
    "Fyj = q_j[1]\n",
    "Fzj = q_j[2]\n",
    "Mxj = q_j[3]\n",
    "Myj = q_j[4]\n",
    "Mzj = q_j[5]\n",
    "Nx = []\n",
    "Qy = []\n",
    "Qz = []\n",
    "M_x = []\n",
    "M_y = []\n",
    "M_z = []\n",
    "for index,load in point_loads.iterrows():\n",
    "    c = load.c\n",
    "    L = element.length#.get_values()\n",
    "    end = c*L\n",
    "     \n",
    "    Fx = Fxi\n",
    "    Nx.append([(start,end),(Fxi,Fx)])\n",
    "    Fxi = Fx+load.p_x\n",
    "    \n",
    "    Fy = Fyi\n",
    "    Qy.append([(start,end),(Fyi,Fy)])\n",
    "    Fyi = Fy+load.p_y\n",
    "    Mz = Mzi+(end-start)*Fy\n",
    "    if load.m_z!=0:\n",
    "        Mz = Mzi+Fyi*(end-start)\n",
    "        M_z.append([(start,end),(Mzi,Mz)])\n",
    "        Mzi = Mz\n",
    "        Mz -=load.m_z\n",
    "        start = end\n",
    "    M_z.append([(start,end),(Mzi,Mz)])    \n",
    "    Mzi = Mz\n",
    "    #else:\n",
    "        \n",
    "    Fz = Fzi\n",
    "    Qz.append([(start,end),(Fzi,Fz)])\n",
    "    Fzi = Fz+load.p_z\n",
    "    My = Myi+(end-start)*Fz\n",
    "    if load.m_y!=0:\n",
    "        My = Myi+Fyi*(end-start)\n",
    "        M_y.append([(start,end),(Myi,My)])\n",
    "        Myi = My\n",
    "        My -= load.m_y\n",
    "        start = end\n",
    "    M_y.append([(start,end),(Myi,My)])    \n",
    "    Myi = My\n",
    "    Mx = Mxi\n",
    "    if load.m_x!=0:\n",
    "        print(Mxi,Mx)\n",
    "        M_x.append([(start,end),(Mxi,Mx)])\n",
    "        \n",
    "        Mx -= load.m_x\n",
    "        Mxi = Mx\n",
    "        start = end\n",
    "    print(Mxi,Mx)\n",
    "    M_x.append([(start,end),(Mxi,Mx)])\n",
    "    start = end\n",
    "    #if (index == len(point_loads)-1):\n",
    "Nx.append([(start, L),(Fxi,Fxj)])\n",
    "Qy.append([(start, L),(Fyi,Fyj)])\n",
    "Qz.append([(start,L),(Fzi,Fzj)])\n",
    "M_z.append([(start,L),(Mzi,Mzj)])\n",
    "M_x.append([(start,L),(Mxi,Mxj)])\n",
    "M_y.append([(start,L),(Myi,Myj)])"
   ]
  },
  {
   "cell_type": "code",
   "execution_count": 7,
   "metadata": {},
   "outputs": [
    {
     "data": {
      "text/plain": [
       "6"
      ]
     },
     "execution_count": 7,
     "metadata": {},
     "output_type": "execute_result"
    }
   ],
   "source": [
    "len(Nx)\n",
    "\n",
    "\n",
    "\n"
   ]
  },
  {
   "cell_type": "code",
   "execution_count": 8,
   "metadata": {},
   "outputs": [
    {
     "data": {
      "text/plain": [
       "6"
      ]
     },
     "execution_count": 8,
     "metadata": {},
     "output_type": "execute_result"
    }
   ],
   "source": [
    "len(Qy)"
   ]
  },
  {
   "cell_type": "code",
   "execution_count": 9,
   "metadata": {},
   "outputs": [
    {
     "data": {
      "text/plain": [
       "6"
      ]
     },
     "execution_count": 9,
     "metadata": {},
     "output_type": "execute_result"
    }
   ],
   "source": [
    "len(Qz)"
   ]
  },
  {
   "cell_type": "code",
   "execution_count": 10,
   "metadata": {},
   "outputs": [
    {
     "data": {
      "text/plain": [
       "6"
      ]
     },
     "execution_count": 10,
     "metadata": {},
     "output_type": "execute_result"
    }
   ],
   "source": [
    "len(M_z)"
   ]
  },
  {
   "cell_type": "code",
   "execution_count": 11,
   "metadata": {},
   "outputs": [
    {
     "data": {
      "text/plain": [
       "6"
      ]
     },
     "execution_count": 11,
     "metadata": {},
     "output_type": "execute_result"
    }
   ],
   "source": [
    "len(M_x)\n"
   ]
  },
  {
   "cell_type": "code",
   "execution_count": 12,
   "metadata": {},
   "outputs": [
    {
     "data": {
      "text/plain": [
       "6"
      ]
     },
     "execution_count": 12,
     "metadata": {},
     "output_type": "execute_result"
    }
   ],
   "source": [
    "len(M_y)"
   ]
  },
  {
   "cell_type": "code",
   "execution_count": 15,
   "metadata": {},
   "outputs": [
    {
     "name": "stderr",
     "output_type": "stream",
     "text": [
      "/home/tsakalis/anaconda3/lib/python2.7/site-packages/ipykernel_launcher.py:14: RankWarning:\n",
      "\n",
      "Polyfit may be poorly conditioned\n",
      "\n",
      "/home/tsakalis/anaconda3/lib/python2.7/site-packages/ipykernel_launcher.py:14: RankWarning:\n",
      "\n",
      "Polyfit may be poorly conditioned\n",
      "\n",
      "/home/tsakalis/anaconda3/lib/python2.7/site-packages/ipykernel_launcher.py:14: RankWarning:\n",
      "\n",
      "Polyfit may be poorly conditioned\n",
      "\n",
      "/home/tsakalis/anaconda3/lib/python2.7/site-packages/ipykernel_launcher.py:14: RankWarning:\n",
      "\n",
      "Polyfit may be poorly conditioned\n",
      "\n",
      "/home/tsakalis/anaconda3/lib/python2.7/site-packages/ipykernel_launcher.py:14: RankWarning:\n",
      "\n",
      "Polyfit may be poorly conditioned\n",
      "\n",
      "/home/tsakalis/anaconda3/lib/python2.7/site-packages/ipykernel_launcher.py:14: RankWarning:\n",
      "\n",
      "Polyfit may be poorly conditioned\n",
      "\n",
      "/home/tsakalis/anaconda3/lib/python2.7/site-packages/ipykernel_launcher.py:14: RankWarning:\n",
      "\n",
      "Polyfit may be poorly conditioned\n",
      "\n",
      "/home/tsakalis/anaconda3/lib/python2.7/site-packages/ipykernel_launcher.py:14: RankWarning:\n",
      "\n",
      "Polyfit may be poorly conditioned\n",
      "\n",
      "/home/tsakalis/anaconda3/lib/python2.7/site-packages/ipykernel_launcher.py:14: RankWarning:\n",
      "\n",
      "Polyfit may be poorly conditioned\n",
      "\n",
      "/home/tsakalis/anaconda3/lib/python2.7/site-packages/ipykernel_launcher.py:14: RankWarning:\n",
      "\n",
      "Polyfit may be poorly conditioned\n",
      "\n",
      "/home/tsakalis/anaconda3/lib/python2.7/site-packages/ipykernel_launcher.py:14: RankWarning:\n",
      "\n",
      "Polyfit may be poorly conditioned\n",
      "\n",
      "/home/tsakalis/anaconda3/lib/python2.7/site-packages/ipykernel_launcher.py:14: RankWarning:\n",
      "\n",
      "Polyfit may be poorly conditioned\n",
      "\n",
      "/home/tsakalis/anaconda3/lib/python2.7/site-packages/ipykernel_launcher.py:14: RankWarning:\n",
      "\n",
      "Polyfit may be poorly conditioned\n",
      "\n",
      "/home/tsakalis/anaconda3/lib/python2.7/site-packages/ipykernel_launcher.py:14: RankWarning:\n",
      "\n",
      "Polyfit may be poorly conditioned\n",
      "\n",
      "/home/tsakalis/anaconda3/lib/python2.7/site-packages/ipykernel_launcher.py:14: RankWarning:\n",
      "\n",
      "Polyfit may be poorly conditioned\n",
      "\n",
      "/home/tsakalis/anaconda3/lib/python2.7/site-packages/ipykernel_launcher.py:14: RankWarning:\n",
      "\n",
      "Polyfit may be poorly conditioned\n",
      "\n",
      "/home/tsakalis/anaconda3/lib/python2.7/site-packages/ipykernel_launcher.py:14: RankWarning:\n",
      "\n",
      "Polyfit may be poorly conditioned\n",
      "\n",
      "/home/tsakalis/anaconda3/lib/python2.7/site-packages/ipykernel_launcher.py:14: RankWarning:\n",
      "\n",
      "Polyfit may be poorly conditioned\n",
      "\n",
      "/home/tsakalis/anaconda3/lib/python2.7/site-packages/ipykernel_launcher.py:14: RankWarning:\n",
      "\n",
      "Polyfit may be poorly conditioned\n",
      "\n",
      "/home/tsakalis/anaconda3/lib/python2.7/site-packages/ipykernel_launcher.py:14: RankWarning:\n",
      "\n",
      "Polyfit may be poorly conditioned\n",
      "\n",
      "/home/tsakalis/anaconda3/lib/python2.7/site-packages/ipykernel_launcher.py:14: RankWarning:\n",
      "\n",
      "Polyfit may be poorly conditioned\n",
      "\n",
      "/home/tsakalis/anaconda3/lib/python2.7/site-packages/ipykernel_launcher.py:14: RankWarning:\n",
      "\n",
      "Polyfit may be poorly conditioned\n",
      "\n",
      "/home/tsakalis/anaconda3/lib/python2.7/site-packages/ipykernel_launcher.py:14: RankWarning:\n",
      "\n",
      "Polyfit may be poorly conditioned\n",
      "\n",
      "/home/tsakalis/anaconda3/lib/python2.7/site-packages/ipykernel_launcher.py:14: RankWarning:\n",
      "\n",
      "Polyfit may be poorly conditioned\n",
      "\n"
     ]
    },
    {
     "data": {
      "text/plain": [
       "[<matplotlib.lines.Line2D at 0x7f8072148610>]"
      ]
     },
     "execution_count": 15,
     "metadata": {},
     "output_type": "execute_result"
    },
    {
     "data": {
      "image/png": "[encoded data removed]",
      "text/plain": [
       "<Figure size 432x288 with 1 Axes>"
      ]
     },
     "metadata": {
      "needs_background": "light"
     },
     "output_type": "display_data"
    }
   ],
   "source": [
    "temp = fit_points(10, Fx=Nx, Fy=Qy, Fz=Qz, Mx=M_x, My=M_y, Mz=M_z)\n",
    "#plt.plot(temp['x'], temp['Fx'])\n",
    "#plt.plot(temp['x'], temp['Fy'])\n",
    "#plt.plot(temp['x'], temp['Fz'])\n",
    "#plt.plot(temp['x'], temp['Mx'])\n",
    "plt.plot(temp['x'], temp['My'])\n",
    "plt.plot(temp['x'], temp['Mz'])"
   ]
  },
  {
   "cell_type": "code",
   "execution_count": 14,
   "metadata": {},
   "outputs": [],
   "source": [
    "def fit_points(num_points, **kwargs):\n",
    "    columns = ['x']+list(kwargs)\n",
    "    df = pd.DataFrame([], columns=columns)\n",
    "    for key in kwargs.keys():\n",
    "        for segment in kwargs[key]:\n",
    "            x_ = segment[0]\n",
    "            y_ = segment[1]\n",
    "            a, b = x_[0], x_[-1]\n",
    "            if len(x_)<4:\n",
    "                degree = 1\n",
    "            else:\n",
    "                degree = 3\n",
    "            x = np.linspace(a, b, num_points)\n",
    "            coef = np.polyfit(x_, y_, degree)\n",
    "            if degree==1:\n",
    "                values = x*coef[0]+coef[1]\n",
    "            else:\n",
    "                values = x**3*coef[0]+x**2*coef[1]+x*coef[2]+coef[3] \n",
    "            d_t = pd.DataFrame([], columns=columns)\n",
    "            d_t[key] = values\n",
    "            d_t['x'] = x\n",
    "            df = pd.concat([df,d_t],axis=0, sort=False)\n",
    "    return df"
   ]
  },
  {
   "cell_type": "code",
   "execution_count": null,
   "metadata": {},
   "outputs": [],
   "source": []
  },
  {
   "cell_type": "code",
   "execution_count": 16,
   "metadata": {},
   "outputs": [
    {
     "name": "stdout",
     "output_type": "stream",
     "text": [
      "(3.5, 116.8125)\n",
      "(5, 0)\n"
     ]
    },
    {
     "data": {
      "image/png": "[encoded data removed]",
      "text/plain": [
       "<Figure size 432x288 with 1 Axes>"
      ]
     },
     "metadata": {
      "needs_background": "light"
     },
     "output_type": "display_data"
    }
   ],
   "source": [
    "L = 5 \n",
    "c1 =0.4\n",
    "c2=0.6\n",
    "Qi = 152.125\n",
    "Mi = -185.625\n",
    "Q_c2 = 50\n",
    "M_c2 = 0\n",
    "P1 = -100\n",
    "P2 = -30\n",
    "P3 = -100\n",
    "c1 = 0.3\n",
    "c2 = 0.5\n",
    "c3 = 0.7\n",
    "\n",
    "\n",
    "Qj = -77.85\n",
    "p = [P1, P2, P3]\n",
    "c = [c1,c2, c3]\n",
    "#c.sort()\n",
    "p__ = [x for y, x in sorted(zip(c, p))]\n",
    "c.sort()\n",
    "m_points = [(0, Mi)]\n",
    "q_points = [(0,Qi)]\n",
    "i = 0\n",
    "start = 0\n",
    "df = pd.DataFrame([],columns=['x','Fx', 'Fy', 'Fz', 'Mx', 'My', 'Mz'])\n",
    "for p_, c_ in zip(p__,c):\n",
    "    end = c_*L\n",
    "    Q = Qi\n",
    "    x = np.linspace(start, end, 10)\n",
    "    coef = np.polyfit([start,end ], [Qi,Q], 1)\n",
    "    f_y = x*coef[0]+coef[1]\n",
    "    Qi = Q+p_\n",
    "    \n",
    "    Mj = Mi+Q*(end-start)\n",
    "    coef = np.polyfit([start,end ], [Mi,Mj], 1)\n",
    "    m_y = x*coef[0]+coef[1]\n",
    "    \n",
    "    Mi = Mj\n",
    "    \n",
    "    start = c_*L\n",
    "    d_t = pd.DataFrame([], columns=['x','Fy','My'])\n",
    "    d_t['x'] = x\n",
    "    d_t['Fy'] = f_y\n",
    "    d_t['My'] = m_y\n",
    "    df = pd.concat([df,d_t],axis=0, sort=False)\n",
    "    i += 1\n",
    "M = 0\n",
    "print(end, Mj)\n",
    "print(L, M)\n",
    "x_last =np.linspace(end,L,10)\n",
    "coef = np.polyfit([end,L ], [Qi,Qj], 1)\n",
    "f_y = x*coef[0]+coef[1]\n",
    "d_t = pd.DataFrame([], columns=['x','Fy', 'My'])\n",
    "d_t['x'] = x_last\n",
    "d_t['Fy'] = f_y\n",
    "coef = np.polyfit([end, L ], [Mj,M], 1)\n",
    "m_y = x_last*coef[0]+coef[1]\n",
    "\n",
    "d_t['My'] = m_y\n",
    "df = pd.concat([df,d_t],axis=0,sort=False)\n",
    "plt.plot(df['x'],df['Fy'])\n",
    "plt.plot(df['x'],df['My'])\n",
    "plt.show()\n",
    "m_points.append((L, Mj))\n",
    "q_points.append((L, Qj))"
   ]
  },
  {
   "cell_type": "code",
   "execution_count": 17,
   "metadata": {},
   "outputs": [
    {
     "ename": "IndexError",
     "evalue": "list index out of range",
     "output_type": "error",
     "traceback": [
      "\u001b[1;31m---------------------------------------------------------------------------\u001b[0m",
      "\u001b[1;31mIndexError\u001b[0m                                Traceback (most recent call last)",
      "\u001b[1;32m<ipython-input-17-32c169f5b0da>\u001b[0m in \u001b[0;36m<module>\u001b[1;34m()\u001b[0m\n\u001b[1;32m----> 1\u001b[1;33m \u001b[1;33m[\u001b[0m\u001b[0mm_points\u001b[0m\u001b[1;33m[\u001b[0m\u001b[1;36m0\u001b[0m\u001b[1;33m]\u001b[0m\u001b[1;33m[\u001b[0m\u001b[1;36m1\u001b[0m\u001b[1;33m]\u001b[0m\u001b[1;33m,\u001b[0m \u001b[0mm_points\u001b[0m\u001b[1;33m[\u001b[0m\u001b[1;36m1\u001b[0m\u001b[1;33m]\u001b[0m\u001b[1;33m[\u001b[0m\u001b[1;36m1\u001b[0m\u001b[1;33m]\u001b[0m\u001b[1;33m,\u001b[0m \u001b[0mm_points\u001b[0m\u001b[1;33m[\u001b[0m\u001b[1;36m2\u001b[0m\u001b[1;33m]\u001b[0m\u001b[1;33m[\u001b[0m\u001b[1;36m1\u001b[0m\u001b[1;33m]\u001b[0m\u001b[1;33m,\u001b[0m \u001b[0mm_points\u001b[0m\u001b[1;33m[\u001b[0m\u001b[1;36m3\u001b[0m\u001b[1;33m]\u001b[0m\u001b[1;33m[\u001b[0m\u001b[1;36m1\u001b[0m\u001b[1;33m]\u001b[0m\u001b[1;33m]\u001b[0m\u001b[1;33m\u001b[0m\u001b[0m\n\u001b[0m",
      "\u001b[1;31mIndexError\u001b[0m: list index out of range"
     ]
    }
   ],
   "source": [
    "[m_points[0][1], m_points[1][1], m_points[2][1], m_points[3][1]]"
   ]
  },
  {
   "cell_type": "code",
   "execution_count": 18,
   "metadata": {},
   "outputs": [
    {
     "data": {
      "text/plain": [
       "array([0., 0., 0., 0., 0., 0., 0., 0., 0., 0.])"
      ]
     },
     "execution_count": 18,
     "metadata": {},
     "output_type": "execute_result"
    }
   ],
   "source": [
    "np.zeros((10))\n"
   ]
  },
  {
   "cell_type": "code",
   "execution_count": 19,
   "metadata": {},
   "outputs": [],
   "source": [
    "def mqn_member(elements, MQN_nodes, point_loads):\n",
    "    for index, element in elements.iterrows():\n",
    "        mqn_nodes = MQN_nodes[index]\n",
    "        points = 10\n",
    "        mqn_values = np.zeros((points, 8))\n",
    "        disp_member_local = np.zeros((8, points))\n",
    "        L = element.length\n",
    "\n",
    "        member_p_loads = point_loads.loc[(point_loads.nn == element.en) & (point_loads.c != 99999)]\n",
    "        # d_load = dist_loads.loc[(dist_loads.en == element.en)]\n",
    "        for index, p_load in member_p_loads.iterrows():\n",
    "            print(p_load)"
   ]
  },
  {
   "cell_type": "code",
   "execution_count": 20,
   "metadata": {},
   "outputs": [
    {
     "ename": "NameError",
     "evalue": "name 'MQN_nodes' is not defined",
     "output_type": "error",
     "traceback": [
      "\u001b[1;31m---------------------------------------------------------------------------\u001b[0m",
      "\u001b[1;31mNameError\u001b[0m                                 Traceback (most recent call last)",
      "\u001b[1;32m<ipython-input-20-37f493ef652e>\u001b[0m in \u001b[0;36m<module>\u001b[1;34m()\u001b[0m\n\u001b[1;32m----> 1\u001b[1;33m \u001b[0mmqn_member\u001b[0m\u001b[1;33m(\u001b[0m\u001b[0melements\u001b[0m\u001b[1;33m,\u001b[0m \u001b[0mMQN_nodes\u001b[0m\u001b[1;33m,\u001b[0m \u001b[0mpoint_loads\u001b[0m\u001b[1;33m)\u001b[0m\u001b[1;33m\u001b[0m\u001b[0m\n\u001b[0m",
      "\u001b[1;31mNameError\u001b[0m: name 'MQN_nodes' is not defined"
     ]
    }
   ],
   "source": [
    "mqn_member(elements, MQN_nodes, point_loads)"
   ]
  },
  {
   "cell_type": "code",
   "execution_count": 21,
   "metadata": {},
   "outputs": [],
   "source": [
    "def fit_points(num_points, **kwargs):\n",
    "    columns = ['x']+kwargs.keys()\n",
    "    df = pd.DataFrame([], columns=columns)\n",
    "    for key in kwargs.keys():\n",
    "        for segment in kwargs[key]:\n",
    "            x_ = segment[0]\n",
    "            y_ = segment[1]\n",
    "            a, b = x_[0], x_[-1]\n",
    "            if len(x_)<4:\n",
    "                degree = 1\n",
    "            else:\n",
    "                degree = 3\n",
    "            x = np.linspace(a, b, num_points)\n",
    "            coef = np.polyfit(x_, y_, degree)\n",
    "            if degree==1:\n",
    "                values = x*coef[0]+coef[1]\n",
    "            else:\n",
    "                values = x**3*coef[0]+x**2*coef[1]+x*coef[2]+coef[3] \n",
    "            d_t = pd.DataFrame([], columns=columns)\n",
    "            d_t[key] = values\n",
    "            d_t['x'] = x\n",
    "            df = pd.concat([df,d_t],axis=0, sort=False)\n",
    "    return df"
   ]
  },
  {
   "cell_type": "code",
   "execution_count": 22,
   "metadata": {},
   "outputs": [],
   "source": [
    "a = [[(0,1.5),(-182.62,42.5625)],[(1.5, 2.5), (42.5625, 94.6874)],\n",
    "[(2.5,3.5),(94.6875,116.8125)], [(3.5,5),(115.8125,0)]]"
   ]
  },
  {
   "cell_type": "code",
   "execution_count": 23,
   "metadata": {},
   "outputs": [
    {
     "name": "stderr",
     "output_type": "stream",
     "text": [
      "/home/tsakalis/anaconda3/lib/python2.7/site-packages/ipykernel_launcher.py:14: RankWarning:\n",
      "\n",
      "Polyfit may be poorly conditioned\n",
      "\n",
      "/home/tsakalis/anaconda3/lib/python2.7/site-packages/ipykernel_launcher.py:14: RankWarning:\n",
      "\n",
      "Polyfit may be poorly conditioned\n",
      "\n",
      "/home/tsakalis/anaconda3/lib/python2.7/site-packages/ipykernel_launcher.py:14: RankWarning:\n",
      "\n",
      "Polyfit may be poorly conditioned\n",
      "\n",
      "/home/tsakalis/anaconda3/lib/python2.7/site-packages/ipykernel_launcher.py:14: RankWarning:\n",
      "\n",
      "Polyfit may be poorly conditioned\n",
      "\n"
     ]
    },
    {
     "data": {
      "text/html": [
       "<div>\n",
       "<style scoped>\n",
       "    .dataframe tbody tr th:only-of-type {\n",
       "        vertical-align: middle;\n",
       "    }\n",
       "\n",
       "    .dataframe tbody tr th {\n",
       "        vertical-align: top;\n",
       "    }\n",
       "\n",
       "    .dataframe thead th {\n",
       "        text-align: right;\n",
       "    }\n",
       "</style>\n",
       "<table border=\"1\" class=\"dataframe\">\n",
       "  <thead>\n",
       "    <tr style=\"text-align: right;\">\n",
       "      <th></th>\n",
       "      <th>x</th>\n",
       "      <th>Fy</th>\n",
       "    </tr>\n",
       "  </thead>\n",
       "  <tbody>\n",
       "    <tr>\n",
       "      <th>0</th>\n",
       "      <td>0.000000</td>\n",
       "      <td>90.051100</td>\n",
       "    </tr>\n",
       "    <tr>\n",
       "      <th>1</th>\n",
       "      <td>0.260579</td>\n",
       "      <td>90.051100</td>\n",
       "    </tr>\n",
       "    <tr>\n",
       "      <th>2</th>\n",
       "      <td>0.521158</td>\n",
       "      <td>90.051100</td>\n",
       "    </tr>\n",
       "    <tr>\n",
       "      <th>3</th>\n",
       "      <td>0.781737</td>\n",
       "      <td>90.051100</td>\n",
       "    </tr>\n",
       "    <tr>\n",
       "      <th>4</th>\n",
       "      <td>1.042316</td>\n",
       "      <td>90.051100</td>\n",
       "    </tr>\n",
       "    <tr>\n",
       "      <th>5</th>\n",
       "      <td>1.302894</td>\n",
       "      <td>90.051100</td>\n",
       "    </tr>\n",
       "    <tr>\n",
       "      <th>6</th>\n",
       "      <td>1.563473</td>\n",
       "      <td>90.051100</td>\n",
       "    </tr>\n",
       "    <tr>\n",
       "      <th>7</th>\n",
       "      <td>1.824052</td>\n",
       "      <td>90.051100</td>\n",
       "    </tr>\n",
       "    <tr>\n",
       "      <th>8</th>\n",
       "      <td>2.084631</td>\n",
       "      <td>90.051100</td>\n",
       "    </tr>\n",
       "    <tr>\n",
       "      <th>9</th>\n",
       "      <td>2.345210</td>\n",
       "      <td>90.051100</td>\n",
       "    </tr>\n",
       "    <tr>\n",
       "      <th>1</th>\n",
       "      <td>2.605789</td>\n",
       "      <td>520.807423</td>\n",
       "    </tr>\n",
       "    <tr>\n",
       "      <th>2</th>\n",
       "      <td>2.866368</td>\n",
       "      <td>459.425095</td>\n",
       "    </tr>\n",
       "    <tr>\n",
       "      <th>3</th>\n",
       "      <td>3.126947</td>\n",
       "      <td>398.042767</td>\n",
       "    </tr>\n",
       "    <tr>\n",
       "      <th>4</th>\n",
       "      <td>3.387526</td>\n",
       "      <td>336.660440</td>\n",
       "    </tr>\n",
       "    <tr>\n",
       "      <th>5</th>\n",
       "      <td>3.648104</td>\n",
       "      <td>275.278112</td>\n",
       "    </tr>\n",
       "    <tr>\n",
       "      <th>6</th>\n",
       "      <td>3.908683</td>\n",
       "      <td>213.895784</td>\n",
       "    </tr>\n",
       "    <tr>\n",
       "      <th>7</th>\n",
       "      <td>4.169262</td>\n",
       "      <td>152.513456</td>\n",
       "    </tr>\n",
       "    <tr>\n",
       "      <th>8</th>\n",
       "      <td>4.429841</td>\n",
       "      <td>91.131128</td>\n",
       "    </tr>\n",
       "    <tr>\n",
       "      <th>9</th>\n",
       "      <td>4.690420</td>\n",
       "      <td>29.748800</td>\n",
       "    </tr>\n",
       "  </tbody>\n",
       "</table>\n",
       "</div>"
      ],
      "text/plain": [
       "          x          Fy\n",
       "0  0.000000   90.051100\n",
       "1  0.260579   90.051100\n",
       "2  0.521158   90.051100\n",
       "3  0.781737   90.051100\n",
       "4  1.042316   90.051100\n",
       "5  1.302894   90.051100\n",
       "6  1.563473   90.051100\n",
       "7  1.824052   90.051100\n",
       "8  2.084631   90.051100\n",
       "9  2.345210   90.051100\n",
       "1  2.605789  520.807423\n",
       "2  2.866368  459.425095\n",
       "3  3.126947  398.042767\n",
       "4  3.387526  336.660440\n",
       "5  3.648104  275.278112\n",
       "6  3.908683  213.895784\n",
       "7  4.169262  152.513456\n",
       "8  4.429841   91.131128\n",
       "9  4.690420   29.748800"
      ]
     },
     "execution_count": 23,
     "metadata": {},
     "output_type": "execute_result"
    }
   ],
   "source": [
    "fit_points(10, Fy=Qy).drop_duplicates(subset=['x'], keep='first')"
   ]
  },
  {
   "cell_type": "code",
   "execution_count": 44,
   "metadata": {},
   "outputs": [],
   "source": [
    "q = (1, ((0,0.5),(1,2)), ((0.5,1),(1,2)))"
   ]
  },
  {
   "cell_type": "code",
   "execution_count": 45,
   "metadata": {},
   "outputs": [
    {
     "data": {
      "text/plain": [
       "(1, ((0, 0.5), (1, 2)), ((0.5, 1), (1, 2)))"
      ]
     },
     "execution_count": 45,
     "metadata": {},
     "output_type": "execute_result"
    }
   ],
   "source": [
    "(0, -185.625)\n",
    "(1.5, 42.5625)\n",
    "(1.5, 42.5625)\n",
    "(2.5, 94.6875)\n",
    "(2.5, 94.6875)\n",
    "(3.5, 116.8125)\n",
    "(3.5, 116.8125)\n",
    "(5, 0)\n",
    "[[(0,1.5),(-182.62,42.5625)],[(1.5, 2.5), (42.5625, 94.6874)],\n",
    "[(2.5,3.5),(94.6875,116.8125)], [(3.5,5),(115.8125,0)]]"
   ]
  },
  {
   "cell_type": "code",
   "execution_count": 25,
   "metadata": {},
   "outputs": [],
   "source": [
    "from scipy.interpolate import splprep, splev"
   ]
  },
  {
   "cell_type": "code",
   "execution_count": 53,
   "metadata": {},
   "outputs": [],
   "source": [
    "u = np.linspace(0,1,10)\n",
    "\n",
    "nodes = np.array([[0,-0.28178],[0.2,0.01836],[0.3,0.06843],[0.4,0.10017],[0.7,0.13038],[0.8,0.040447],[1,-0.33941]])\n",
    "#nodes = np.array( [ [1, 2], [6, 15], [10, 6] ] )\n",
    "\n",
    "x = nodes[:,0]\n",
    "y = nodes[:,1]"
   ]
  },
  {
   "cell_type": "code",
   "execution_count": 72,
   "metadata": {},
   "outputs": [],
   "source": [
    "tck,u = splprep( [x,y], k = 3)"
   ]
  },
  {
   "cell_type": "code",
   "execution_count": 73,
   "metadata": {},
   "outputs": [],
   "source": [
    "x_n, y_n = splev(u,tck,der=0)"
   ]
  },
  {
   "cell_type": "code",
   "execution_count": 74,
   "metadata": {},
   "outputs": [
    {
     "data": {
      "text/plain": [
       "[<matplotlib.lines.Line2D at 0x7f80709801d0>]"
      ]
     },
     "execution_count": 74,
     "metadata": {},
     "output_type": "execute_result"
    },
    {
     "data": {
      "image/png": "[encoded data removed]",
      "text/plain": [
       "<Figure size 432x288 with 1 Axes>"
      ]
     },
     "metadata": {
      "needs_background": "light"
     },
     "output_type": "display_data"
    }
   ],
   "source": [
    "plt.plot(x_n, y_n)"
   ]
  },
  {
   "cell_type": "code",
   "execution_count": 5,
   "metadata": {},
   "outputs": [],
   "source": [
    "mqn = pd.read_csv('model_test/test_1/mqn.csv')\n",
    "displacements = pd.read_csv('model_test/test_1/d_local.csv')\n",
    "elements = pd.read_csv('model_test/test_1/elements.csv')\n",
    "nodes = pd.read_csv('model_test/test_1/nodes.csv')\n",
    "point_loads = pd.read_csv('model_test/test_1/point_loads_rotated.csv')\n",
    "d_loads = pd.read_csv('model_test/test_1/dist_loads.csv')"
   ]
  },
  {
   "cell_type": "code",
   "execution_count": 24,
   "metadata": {},
   "outputs": [
    {
     "data": {
      "text/html": [
       "<div>\n",
       "<style scoped>\n",
       "    .dataframe tbody tr th:only-of-type {\n",
       "        vertical-align: middle;\n",
       "    }\n",
       "\n",
       "    .dataframe tbody tr th {\n",
       "        vertical-align: top;\n",
       "    }\n",
       "\n",
       "    .dataframe thead th {\n",
       "        text-align: right;\n",
       "    }\n",
       "</style>\n",
       "<table border=\"1\" class=\"dataframe\">\n",
       "  <thead>\n",
       "    <tr style=\"text-align: right;\">\n",
       "      <th></th>\n",
       "      <th>Unnamed: 0</th>\n",
       "      <th>user_id</th>\n",
       "      <th>nn</th>\n",
       "      <th>c</th>\n",
       "      <th>p_x</th>\n",
       "      <th>p_y</th>\n",
       "      <th>p_z</th>\n",
       "      <th>m_x</th>\n",
       "      <th>m_y</th>\n",
       "      <th>m_z</th>\n",
       "    </tr>\n",
       "  </thead>\n",
       "  <tbody>\n",
       "    <tr>\n",
       "      <th>0</th>\n",
       "      <td>0</td>\n",
       "      <td>cv13116</td>\n",
       "      <td>2</td>\n",
       "      <td>0.5</td>\n",
       "      <td>0.0</td>\n",
       "      <td>0.0</td>\n",
       "      <td>-100.0</td>\n",
       "      <td>0.0</td>\n",
       "      <td>0.0</td>\n",
       "      <td>0.0</td>\n",
       "    </tr>\n",
       "    <tr>\n",
       "      <th>1</th>\n",
       "      <td>1</td>\n",
       "      <td>cv13116</td>\n",
       "      <td>5</td>\n",
       "      <td>0.5</td>\n",
       "      <td>0.0</td>\n",
       "      <td>0.0</td>\n",
       "      <td>-100.0</td>\n",
       "      <td>0.0</td>\n",
       "      <td>0.0</td>\n",
       "      <td>0.0</td>\n",
       "    </tr>\n",
       "    <tr>\n",
       "      <th>2</th>\n",
       "      <td>2</td>\n",
       "      <td>cv13116</td>\n",
       "      <td>7</td>\n",
       "      <td>0.5</td>\n",
       "      <td>0.0</td>\n",
       "      <td>0.0</td>\n",
       "      <td>-100.0</td>\n",
       "      <td>0.0</td>\n",
       "      <td>0.0</td>\n",
       "      <td>0.0</td>\n",
       "    </tr>\n",
       "    <tr>\n",
       "      <th>3</th>\n",
       "      <td>3</td>\n",
       "      <td>cv13116</td>\n",
       "      <td>9</td>\n",
       "      <td>0.5</td>\n",
       "      <td>0.0</td>\n",
       "      <td>0.0</td>\n",
       "      <td>-100.0</td>\n",
       "      <td>0.0</td>\n",
       "      <td>0.0</td>\n",
       "      <td>0.0</td>\n",
       "    </tr>\n",
       "    <tr>\n",
       "      <th>4</th>\n",
       "      <td>4</td>\n",
       "      <td>cv13116</td>\n",
       "      <td>12</td>\n",
       "      <td>0.5</td>\n",
       "      <td>0.0</td>\n",
       "      <td>0.0</td>\n",
       "      <td>-100.0</td>\n",
       "      <td>0.0</td>\n",
       "      <td>0.0</td>\n",
       "      <td>0.0</td>\n",
       "    </tr>\n",
       "  </tbody>\n",
       "</table>\n",
       "</div>"
      ],
      "text/plain": [
       "   Unnamed: 0  user_id  nn    c  p_x  p_y    p_z  m_x  m_y  m_z\n",
       "0           0  cv13116   2  0.5  0.0  0.0 -100.0  0.0  0.0  0.0\n",
       "1           1  cv13116   5  0.5  0.0  0.0 -100.0  0.0  0.0  0.0\n",
       "2           2  cv13116   7  0.5  0.0  0.0 -100.0  0.0  0.0  0.0\n",
       "3           3  cv13116   9  0.5  0.0  0.0 -100.0  0.0  0.0  0.0\n",
       "4           4  cv13116  12  0.5  0.0  0.0 -100.0  0.0  0.0  0.0"
      ]
     },
     "execution_count": 24,
     "metadata": {},
     "output_type": "execute_result"
    }
   ],
   "source": [
    "point_loads"
   ]
  },
  {
   "cell_type": "code",
   "execution_count": 54,
   "metadata": {},
   "outputs": [],
   "source": []
  },
  {
   "cell_type": "code",
   "execution_count": 57,
   "metadata": {},
   "outputs": [],
   "source": [
    "element = elements.loc[elements['en']==1].squeeze()\n",
    "d_load = d_loads.loc[d_loads.en==element.en]\n",
    "def dist_to_pload(element, d_load, number):\n",
    "    SP = d_load.p_1_z*d_load.l*element.length\n",
    "    Pi = SP.get_values()[0]/number\n",
    "    c = d_load.c.get_values()[0]\n",
    "    dx = d_load.l.get_values()[0]/number\n",
    "    loads = []\n",
    "    elm = d_load.en.get_values()[0]\n",
    "    user_id = d_load['user_id'].get_values()[0]\n",
    "    for i in range(number):\n",
    "        p = Pi\n",
    "        pload = (0,user_id,elm,c, 0,0,Pi,0,0,0)\n",
    "        loads.append(pload)\n",
    "        print(c)\n",
    "        c +=dx\n",
    "        \n",
    "    \n",
    "    return loads"
   ]
  },
  {
   "cell_type": "code",
   "execution_count": 58,
   "metadata": {},
   "outputs": [
    {
     "name": "stdout",
     "output_type": "stream",
     "text": [
      "0.3\n",
      "0.3\n",
      "0.37\n",
      "0.44\n",
      "0.51\n",
      "0.58\n",
      "0.6499999999999999\n",
      "0.7199999999999999\n",
      "0.7899999999999998\n",
      "0.8599999999999998\n",
      "0.9299999999999997\n"
     ]
    }
   ],
   "source": [
    "distload1 = pd.DataFrame(dist_to_pload(element, d_load, 10), columns = point_loads.columns)"
   ]
  },
  {
   "cell_type": "code",
   "execution_count": 59,
   "metadata": {},
   "outputs": [
    {
     "data": {
      "text/html": [
       "<div>\n",
       "<style scoped>\n",
       "    .dataframe tbody tr th:only-of-type {\n",
       "        vertical-align: middle;\n",
       "    }\n",
       "\n",
       "    .dataframe tbody tr th {\n",
       "        vertical-align: top;\n",
       "    }\n",
       "\n",
       "    .dataframe thead th {\n",
       "        text-align: right;\n",
       "    }\n",
       "</style>\n",
       "<table border=\"1\" class=\"dataframe\">\n",
       "  <thead>\n",
       "    <tr style=\"text-align: right;\">\n",
       "      <th></th>\n",
       "      <th>Unnamed: 0</th>\n",
       "      <th>user_id</th>\n",
       "      <th>nn</th>\n",
       "      <th>c</th>\n",
       "      <th>p_x</th>\n",
       "      <th>p_y</th>\n",
       "      <th>p_z</th>\n",
       "      <th>m_x</th>\n",
       "      <th>m_y</th>\n",
       "      <th>m_z</th>\n",
       "    </tr>\n",
       "  </thead>\n",
       "  <tbody>\n",
       "    <tr>\n",
       "      <th>0</th>\n",
       "      <td>0</td>\n",
       "      <td>cv13116</td>\n",
       "      <td>2</td>\n",
       "      <td>0.50</td>\n",
       "      <td>0.0</td>\n",
       "      <td>0.0</td>\n",
       "      <td>-100.000000</td>\n",
       "      <td>0.0</td>\n",
       "      <td>0.0</td>\n",
       "      <td>0.0</td>\n",
       "    </tr>\n",
       "    <tr>\n",
       "      <th>1</th>\n",
       "      <td>1</td>\n",
       "      <td>cv13116</td>\n",
       "      <td>5</td>\n",
       "      <td>0.50</td>\n",
       "      <td>0.0</td>\n",
       "      <td>0.0</td>\n",
       "      <td>-100.000000</td>\n",
       "      <td>0.0</td>\n",
       "      <td>0.0</td>\n",
       "      <td>0.0</td>\n",
       "    </tr>\n",
       "    <tr>\n",
       "      <th>2</th>\n",
       "      <td>2</td>\n",
       "      <td>cv13116</td>\n",
       "      <td>7</td>\n",
       "      <td>0.50</td>\n",
       "      <td>0.0</td>\n",
       "      <td>0.0</td>\n",
       "      <td>-100.000000</td>\n",
       "      <td>0.0</td>\n",
       "      <td>0.0</td>\n",
       "      <td>0.0</td>\n",
       "    </tr>\n",
       "    <tr>\n",
       "      <th>3</th>\n",
       "      <td>3</td>\n",
       "      <td>cv13116</td>\n",
       "      <td>9</td>\n",
       "      <td>0.50</td>\n",
       "      <td>0.0</td>\n",
       "      <td>0.0</td>\n",
       "      <td>-100.000000</td>\n",
       "      <td>0.0</td>\n",
       "      <td>0.0</td>\n",
       "      <td>0.0</td>\n",
       "    </tr>\n",
       "    <tr>\n",
       "      <th>4</th>\n",
       "      <td>4</td>\n",
       "      <td>cv13116</td>\n",
       "      <td>12</td>\n",
       "      <td>0.50</td>\n",
       "      <td>0.0</td>\n",
       "      <td>0.0</td>\n",
       "      <td>-100.000000</td>\n",
       "      <td>0.0</td>\n",
       "      <td>0.0</td>\n",
       "      <td>0.0</td>\n",
       "    </tr>\n",
       "    <tr>\n",
       "      <th>0</th>\n",
       "      <td>0</td>\n",
       "      <td>cv13116</td>\n",
       "      <td>1</td>\n",
       "      <td>0.30</td>\n",
       "      <td>0.0</td>\n",
       "      <td>0.0</td>\n",
       "      <td>-6.566588</td>\n",
       "      <td>0.0</td>\n",
       "      <td>0.0</td>\n",
       "      <td>0.0</td>\n",
       "    </tr>\n",
       "    <tr>\n",
       "      <th>1</th>\n",
       "      <td>0</td>\n",
       "      <td>cv13116</td>\n",
       "      <td>1</td>\n",
       "      <td>0.37</td>\n",
       "      <td>0.0</td>\n",
       "      <td>0.0</td>\n",
       "      <td>-6.566588</td>\n",
       "      <td>0.0</td>\n",
       "      <td>0.0</td>\n",
       "      <td>0.0</td>\n",
       "    </tr>\n",
       "    <tr>\n",
       "      <th>2</th>\n",
       "      <td>0</td>\n",
       "      <td>cv13116</td>\n",
       "      <td>1</td>\n",
       "      <td>0.44</td>\n",
       "      <td>0.0</td>\n",
       "      <td>0.0</td>\n",
       "      <td>-6.566588</td>\n",
       "      <td>0.0</td>\n",
       "      <td>0.0</td>\n",
       "      <td>0.0</td>\n",
       "    </tr>\n",
       "    <tr>\n",
       "      <th>3</th>\n",
       "      <td>0</td>\n",
       "      <td>cv13116</td>\n",
       "      <td>1</td>\n",
       "      <td>0.51</td>\n",
       "      <td>0.0</td>\n",
       "      <td>0.0</td>\n",
       "      <td>-6.566588</td>\n",
       "      <td>0.0</td>\n",
       "      <td>0.0</td>\n",
       "      <td>0.0</td>\n",
       "    </tr>\n",
       "    <tr>\n",
       "      <th>4</th>\n",
       "      <td>0</td>\n",
       "      <td>cv13116</td>\n",
       "      <td>1</td>\n",
       "      <td>0.58</td>\n",
       "      <td>0.0</td>\n",
       "      <td>0.0</td>\n",
       "      <td>-6.566588</td>\n",
       "      <td>0.0</td>\n",
       "      <td>0.0</td>\n",
       "      <td>0.0</td>\n",
       "    </tr>\n",
       "    <tr>\n",
       "      <th>5</th>\n",
       "      <td>0</td>\n",
       "      <td>cv13116</td>\n",
       "      <td>1</td>\n",
       "      <td>0.65</td>\n",
       "      <td>0.0</td>\n",
       "      <td>0.0</td>\n",
       "      <td>-6.566588</td>\n",
       "      <td>0.0</td>\n",
       "      <td>0.0</td>\n",
       "      <td>0.0</td>\n",
       "    </tr>\n",
       "    <tr>\n",
       "      <th>6</th>\n",
       "      <td>0</td>\n",
       "      <td>cv13116</td>\n",
       "      <td>1</td>\n",
       "      <td>0.72</td>\n",
       "      <td>0.0</td>\n",
       "      <td>0.0</td>\n",
       "      <td>-6.566588</td>\n",
       "      <td>0.0</td>\n",
       "      <td>0.0</td>\n",
       "      <td>0.0</td>\n",
       "    </tr>\n",
       "    <tr>\n",
       "      <th>7</th>\n",
       "      <td>0</td>\n",
       "      <td>cv13116</td>\n",
       "      <td>1</td>\n",
       "      <td>0.79</td>\n",
       "      <td>0.0</td>\n",
       "      <td>0.0</td>\n",
       "      <td>-6.566588</td>\n",
       "      <td>0.0</td>\n",
       "      <td>0.0</td>\n",
       "      <td>0.0</td>\n",
       "    </tr>\n",
       "    <tr>\n",
       "      <th>8</th>\n",
       "      <td>0</td>\n",
       "      <td>cv13116</td>\n",
       "      <td>1</td>\n",
       "      <td>0.86</td>\n",
       "      <td>0.0</td>\n",
       "      <td>0.0</td>\n",
       "      <td>-6.566588</td>\n",
       "      <td>0.0</td>\n",
       "      <td>0.0</td>\n",
       "      <td>0.0</td>\n",
       "    </tr>\n",
       "    <tr>\n",
       "      <th>9</th>\n",
       "      <td>0</td>\n",
       "      <td>cv13116</td>\n",
       "      <td>1</td>\n",
       "      <td>0.93</td>\n",
       "      <td>0.0</td>\n",
       "      <td>0.0</td>\n",
       "      <td>-6.566588</td>\n",
       "      <td>0.0</td>\n",
       "      <td>0.0</td>\n",
       "      <td>0.0</td>\n",
       "    </tr>\n",
       "  </tbody>\n",
       "</table>\n",
       "</div>"
      ],
      "text/plain": [
       "   Unnamed: 0  user_id  nn     c  p_x  p_y         p_z  m_x  m_y  m_z\n",
       "0           0  cv13116   2  0.50  0.0  0.0 -100.000000  0.0  0.0  0.0\n",
       "1           1  cv13116   5  0.50  0.0  0.0 -100.000000  0.0  0.0  0.0\n",
       "2           2  cv13116   7  0.50  0.0  0.0 -100.000000  0.0  0.0  0.0\n",
       "3           3  cv13116   9  0.50  0.0  0.0 -100.000000  0.0  0.0  0.0\n",
       "4           4  cv13116  12  0.50  0.0  0.0 -100.000000  0.0  0.0  0.0\n",
       "0           0  cv13116   1  0.30  0.0  0.0   -6.566588  0.0  0.0  0.0\n",
       "1           0  cv13116   1  0.37  0.0  0.0   -6.566588  0.0  0.0  0.0\n",
       "2           0  cv13116   1  0.44  0.0  0.0   -6.566588  0.0  0.0  0.0\n",
       "3           0  cv13116   1  0.51  0.0  0.0   -6.566588  0.0  0.0  0.0\n",
       "4           0  cv13116   1  0.58  0.0  0.0   -6.566588  0.0  0.0  0.0\n",
       "5           0  cv13116   1  0.65  0.0  0.0   -6.566588  0.0  0.0  0.0\n",
       "6           0  cv13116   1  0.72  0.0  0.0   -6.566588  0.0  0.0  0.0\n",
       "7           0  cv13116   1  0.79  0.0  0.0   -6.566588  0.0  0.0  0.0\n",
       "8           0  cv13116   1  0.86  0.0  0.0   -6.566588  0.0  0.0  0.0\n",
       "9           0  cv13116   1  0.93  0.0  0.0   -6.566588  0.0  0.0  0.0"
      ]
     },
     "execution_count": 59,
     "metadata": {},
     "output_type": "execute_result"
    }
   ],
   "source": [
    "pd.concat([point_loads, distload1])"
   ]
  },
  {
   "cell_type": "code",
   "execution_count": 151,
   "metadata": {},
   "outputs": [],
   "source": [
    "w1 = -40\n",
    "w2 = -40\n",
    "\n",
    "L = 3\n",
    "r = 0/L\n",
    "l = 1#(2.7-0.4)/L\n",
    "\n",
    "\n",
    "s1 = r*L\n",
    "s2 = l*L\n",
    "s3 = L-s1-s2\n",
    "\n",
    "temp1_Mi = w1*s2*(3*s2**3+15*s2**2*s1+10*s3**2*s2+30*s3**2*s1+10*s2**2*s3+40*s1*s2*s3)/60/(s1+s2+s3)**2\n",
    "temp2_Mi= w2*s2*(2*s2**3+5*s2**2*s1+20*s3**2*s2+30*s3**2*s1+10*s2**2*s3+20*s1*s2*s3)/60/(s1+s2+s3)**2\n",
    "\n",
    "Mi = temp1_Mi+temp2_Mi\n",
    "temp1_Mj = -w2*s2*(3*s2**3+15*s2**2*s3+10*s1**2*s2+30*s1**2*s3+10*s2**2*s1+40*s1*s2*s3)/60/(s1+s2+s3)**2\n",
    "temp2_Mj= -w1*s2*(2*s2**3+5*s2**2*s3+20*s1**2*s2+30*s1**2*s3+10*s2**2*s1+20*s1*s2*s3)/60/(s1+s2+s3)**2\n",
    "\n",
    "Mj = temp1_Mj+temp2_Mj\n",
    "\n",
    "temp1_Fi = w2*s2*(3*s2**3+5*s2**2*s1+10*s3**3+30*s3**2*s2+30*s3**2*s1+15*s2**2*s3+20*s1*s2*s3)/20/(s1+s2+s3)**3\n",
    "temp2_Fi = w1*s2*(7*s2**3+15*s2**2*s1+10*s3**3+30*s3**2*s2+30*s3**2*s1+25*s2**2*s3+40*s1*s2*s3)/20/(s1+s2+s3)**3\n",
    "\n",
    "Fi = temp1_Fi+temp2_Fi\n",
    "\n",
    "temp1_Fj = w1*s2*(3*s2**3+5*s2**2*s3+10*s1**3+30*s1**2*s2+30*s1**2*s3+15*s2**2*s1+20*s1*s2*s3)/20/(s1+s2+s3)**3\n",
    "temp2_Fj= w2*s2*(7*s2**3+15*s2**2*s3+10*s1**3+30*s1**2*s2+30*s1**2*s3+25*s2**2*s1+40*s1*s2*s3)/20/(s1+s2+s3)**3\n",
    "\n",
    "Fj= temp1_Fj+temp2_Fj\n"
   ]
  },
  {
   "cell_type": "code",
   "execution_count": 152,
   "metadata": {},
   "outputs": [
    {
     "data": {
      "text/plain": [
       "(-60, -30, -60, 30)"
      ]
     },
     "execution_count": 152,
     "metadata": {},
     "output_type": "execute_result"
    }
   ],
   "source": [
    "Fi,Mi,Fj,Mj\n"
   ]
  },
  {
   "cell_type": "code",
   "execution_count": 130,
   "metadata": {},
   "outputs": [
    {
     "data": {
      "text/plain": [
       "3.0"
      ]
     },
     "execution_count": 130,
     "metadata": {},
     "output_type": "execute_result"
    }
   ],
   "source": [
    "s3+s2+s1"
   ]
  },
  {
   "cell_type": "code",
   "execution_count": 112,
   "metadata": {},
   "outputs": [
    {
     "data": {
      "text/plain": [
       "-34.5"
      ]
     },
     "execution_count": 112,
     "metadata": {},
     "output_type": "execute_result"
    }
   ],
   "source": [
    "dist_load_reactions(c, l, p1, p2, L):\n",
    "    s1 = c*L\n",
    "    s2 = l*L\n",
    "    s3 = L-s1-s2\n",
    "\n",
    "    temp1_Mi = w1*s2*(3*s2**3+15*s2**2*s1+10*s3**2*s2+30*s3**2*s1+10*s2**2*s3+40*s1*s2*s3)/60/(s1+s2+s3)**2\n",
    "    temp2_Mi= w2*s2*(2*s2**3+5*s2**2*s1+20*s3**2*s2+30*s3**2*s1+10*s2**2*s3+20*s1*s2*s3)/60/(s1+s2+s3)**2\n",
    "\n",
    "    Mi = temp1_Mi+temp2_Mi\n",
    "    temp1_Mj = -w2*s2*(3*s2**3+15*s2**2*s3+10*s1**2*s2+30*s1**2*s3+10*s2**2*s1+40*s1*s2*s3)/60/(s1+s2+s3)**2\n",
    "    temp2_Mj= -w1*s2*(2*s2**3+5*s2**2*s3+20*s1**2*s2+30*s1**2*s3+10*s2**2*s1+20*s1*s2*s3)/60/(s1+s2+s3)**2\n",
    "\n",
    "    Mj = temp1_Mj+temp2_Mj\n",
    "\n",
    "    temp1_Fi = w2*s2*(3*s2**3+5*s2**2*s1+10*s3**3+30*s3**2*s2+30*s3**2*s1+15*s2**2*s3+20*s1*s2*s3)/20/(s1+s2+s3)**3\n",
    "    temp2_Fi = w1*s2*(7*s2**3+15*s2**2*s1+10*s3**3+30*s3**2*s2+30*s3**2*s1+25*s2**2*s3+40*s1*s2*s3)/20/(s1+s2+s3)**3\n",
    "\n",
    "    Fi = temp1_Fi+temp2_Fi\n",
    "\n",
    "    temp1_Fj = w1*s2*(3*s2**3+5*s2**2*s3+10*s1**3+30*s1**2*s2+30*s1**2*s3+15*s2**2*s1+20*s1*s2*s3)/20/(s1+s2+s3)**3\n",
    "    temp2_Fj= w2*s2*(7*s2**3+15*s2**2*s3+10*s1**3+30*s1**2*s2+30*s1**2*s3+25*s2**2*s1+40*s1*s2*s3)/20/(s1+s2+s3)**3\n",
    "\n",
    "    Fj= temp1_Fj+temp2_Fj\n",
    "    \n",
    "    return Fi,Mi,Fj,Mj"
   ]
  },
  {
   "cell_type": "code",
   "execution_count": 113,
   "metadata": {},
   "outputs": [
    {
     "data": {
      "text/plain": [
       "(0.4, 2.7, 2.3000000000000003, 1.0666666666666667)"
      ]
     },
     "execution_count": 113,
     "metadata": {},
     "output_type": "execute_result"
    }
   ],
   "source": [
    "a,b,c,d"
   ]
  },
  {
   "cell_type": "code",
   "execution_count": 114,
   "metadata": {},
   "outputs": [
    {
     "data": {
      "text/plain": [
       "-13.813298353909465"
      ]
     },
     "execution_count": 114,
     "metadata": {},
     "output_type": "execute_result"
    }
   ],
   "source": [
    "Pa/ L ** 3 * (d ** 2 * (3 * L - 2 * d) - c ** 2 / 3 * (L / 2 - b + 17 / 45 * c))"
   ]
  },
  {
   "cell_type": "code",
   "execution_count": null,
   "metadata": {},
   "outputs": [],
   "source": []
  }
 ],
 "metadata": {
  "kernelspec": {
   "display_name": "Python 2",
   "language": "python",
   "name": "python2"
  },
  "language_info": {
   "codemirror_mode": {
    "name": "ipython",
    "version": 2
   },
   "file_extension": ".py",
   "mimetype": "text/x-python",
   "name": "python",
   "nbconvert_exporter": "python",
   "pygments_lexer": "ipython2",
   "version": "2.7.15"
  }
 },
 "nbformat": 4,
 "nbformat_minor": 2
}
