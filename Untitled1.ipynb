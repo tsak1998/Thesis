{
 "cells": [
  {
   "cell_type": "code",
   "execution_count": 3,
   "metadata": {},
   "outputs": [],
   "source": [
    "import numpy as np"
   ]
  },
  {
   "cell_type": "code",
   "execution_count": 14,
   "metadata": {},
   "outputs": [],
   "source": [
    "a = np.random.rand(6,20)\n",
    "b = np.random.rand(6,6)"
   ]
  },
  {
   "cell_type": "code",
   "execution_count": 20,
   "metadata": {},
   "outputs": [
    {
     "data": {
      "text/plain": [
       "array([1.79387469, 1.10291454, 1.64185189, 0.35054056, 1.05581993,\n",
       "       1.07256029, 1.38641936, 1.24617686, 1.49774742, 1.61739036,\n",
       "       0.86360437, 1.31162056, 1.35262279, 0.97180247, 1.04314946,\n",
       "       1.12903952, 1.40089707, 0.90234394, 1.37616196, 0.77741195])"
      ]
     },
     "execution_count": 20,
     "metadata": {},
     "output_type": "execute_result"
    }
   ],
   "source": [
    "np.transpose(b.dot(a))[:,0]\n"
   ]
  },
  {
   "cell_type": "code",
   "execution_count": 21,
   "metadata": {},
   "outputs": [
    {
     "data": {
      "text/plain": [
       "array([1.79387469, 1.10291454, 1.64185189, 0.35054056, 1.05581993,\n",
       "       1.07256029, 1.38641936, 1.24617686, 1.49774742, 1.61739036,\n",
       "       0.86360437, 1.31162056, 1.35262279, 0.97180247, 1.04314946,\n",
       "       1.12903952, 1.40089707, 0.90234394, 1.37616196, 0.77741195])"
      ]
     },
     "execution_count": 21,
     "metadata": {},
     "output_type": "execute_result"
    }
   ],
   "source": [
    "b.dot(a)[0,:]"
   ]
  },
  {
   "cell_type": "code",
   "execution_count": null,
   "metadata": {},
   "outputs": [],
   "source": []
  }
 ],
 "metadata": {
  "kernelspec": {
   "display_name": "Python 3",
   "language": "python",
   "name": "python3"
  },
  "language_info": {
   "codemirror_mode": {
    "name": "ipython",
    "version": 3
   },
   "file_extension": ".py",
   "mimetype": "text/x-python",
   "name": "python",
   "nbconvert_exporter": "python",
   "pygments_lexer": "ipython3",
   "version": "3.6.7"
  }
 },
 "nbformat": 4,
 "nbformat_minor": 2
}
